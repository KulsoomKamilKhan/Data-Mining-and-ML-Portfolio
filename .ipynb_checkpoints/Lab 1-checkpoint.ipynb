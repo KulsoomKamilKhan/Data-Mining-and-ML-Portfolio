{
 "cells": [
  {
   "cell_type": "markdown",
   "id": "a01a09a6",
   "metadata": {},
   "source": [
    "# LAB 1 "
   ]
  },
  {
   "cell_type": "markdown",
   "id": "1ecc8d2d",
   "metadata": {},
   "source": [
    "### The task for this lab was to explore the many datasets available online and select one that would be of interest to all group members and would, on performing data analysis, produce useful and beneficial insights."
   ]
  },
  {
   "cell_type": "markdown",
   "id": "28bc7beb",
   "metadata": {},
   "source": [
    "### The three datasets listed below were chosen from among the many available online. We then assessed the benefits and drawbacks of each dataset before settling on one. "
   ]
  },
  {
   "cell_type": "markdown",
   "id": "6c6feb7f",
   "metadata": {},
   "source": [
    "##### *Swiss Banknote Counterfeit detection dataset:*"
   ]
  },
  {
   "cell_type": "markdown",
   "id": "f8db26f7",
   "metadata": {},
   "source": [
    "##### Reference: https://www.kaggle.com/datasets/chrizzles/swiss-banknote-conterfeit-detection\n",
    "##### On conducting analysis on this dataset, we will be able to distinguish between original and counterfeit bank notes. The dataset consists of 7 attributes describing the dimensions of a bank note. "
   ]
  },
  {
   "cell_type": "markdown",
   "id": "f4527c01",
   "metadata": {},
   "source": [
    "##### *Attributes:*"
   ]
  },
  {
   "cell_type": "markdown",
   "id": "0d4b0c73",
   "metadata": {},
   "source": [
    "- Counterfeit: if counterfeit – 1; if genuine – 0\n",
    "- Length: Length of bill (mm)\n",
    "- Left: Width of left edge (mm)\n",
    "- Right: Width of right edge (mm)\n",
    "- Bottom: Bottom margin width (mm)\n",
    "- Top: Top margin width (mm)\n",
    "- Diagonal: Length of diagonal (mm)\n"
   ]
  },
  {
   "cell_type": "markdown",
   "id": "b9653c85",
   "metadata": {},
   "source": [
    "##### *PROS:*"
   ]
  },
  {
   "cell_type": "markdown",
   "id": "955e8d5e",
   "metadata": {},
   "source": [
    "- The dataset contains well-defined fields.\n",
    "- There are no missing values in the dataset.\n",
    "- The dataset consists of only numerical data thus making it easier to perform statistical\n",
    "data analysis. "
   ]
  },
  {
   "cell_type": "markdown",
   "id": "b6f3de05",
   "metadata": {},
   "source": [
    "****_CONS:_****\n",
    "- The dataset is too simple because it has only seven attributes, making it difficult to\n",
    "generate a large number of samples."
   ]
  },
  {
   "cell_type": "markdown",
   "id": "f4469bec",
   "metadata": {},
   "source": [
    "##### *Global Warming Analysis dataset:*"
   ]
  },
  {
   "cell_type": "markdown",
   "id": "0d1d9c0d",
   "metadata": {},
   "source": [
    "#### Reference: https://www.kaggle.com/datasets/debjyotisaha/global-warming-analysis\n",
    "#### On doing analysis on this dataset, we will be able to get an insight on the change in the average temperatures of cities over a long period of time, thus reflecting an aspect of climate change and global warming. "
   ]
  },
  {
   "cell_type": "markdown",
   "id": "e74bc02d",
   "metadata": {},
   "source": [
    "##### *Attributes:*"
   ]
  },
  {
   "cell_type": "markdown",
   "id": "883979b6",
   "metadata": {},
   "source": [
    "- Date\n",
    "- Average Temperature\n",
    "- Average Temperature Uncertainty\n",
    "- City\n",
    "- Country\n",
    "- Latitude\n",
    "- Longitude\n"
   ]
  },
  {
   "cell_type": "markdown",
   "id": "228cebbd",
   "metadata": {},
   "source": [
    "##### *PROS:*"
   ]
  },
  {
   "cell_type": "markdown",
   "id": "9e1dc35c",
   "metadata": {},
   "source": [
    "- This dataset is fairly accurate, and reflects past to current global temperatures by city and country.\n",
    "- Global warming is an ongoing concern, and is extremely applicable in today's world where the repercussions of climate change is being felt, and thus this dataset is relevant and valuable.\n",
    "- The dataset is recent, with the last update being a year ago.\n",
    "- The dataset is large and provides detailed records from the 1700's."
   ]
  },
  {
   "cell_type": "markdown",
   "id": "b413bf0e",
   "metadata": {},
   "source": [
    "##### *CONS:*"
   ]
  },
  {
   "cell_type": "markdown",
   "id": "ead1b065",
   "metadata": {},
   "source": [
    "- The dataset has some missing values due to unavailability of certain temperature information dating back to the 1700's.\n",
    "- The dataset contains only average temperatures of the cities each year and does not reflect the extreme temperature cases of the cities. It does not contain metrics apart from the average temperature. Therefore, it does not provide an accurate overall view of the reality of climate change."
   ]
  },
  {
   "cell_type": "markdown",
   "id": "fbd1a16b",
   "metadata": {},
   "source": [
    "##### *Student Performance Dataset:*"
   ]
  },
  {
   "cell_type": "markdown",
   "id": "b7f43748",
   "metadata": {},
   "source": [
    "#### Reference: https://archive.ics.uci.edu/ml/datasets/Student+Performance\n",
    "#### On doing analysis on this dataset, we will be able to understand the factors influencing student success. The dataset consists of information collected from two Portuguese schools. "
   ]
  },
  {
   "cell_type": "markdown",
   "id": "957a5dc5",
   "metadata": {},
   "source": [
    "##### *Attributes:*"
   ]
  },
  {
   "cell_type": "markdown",
   "id": "1106a45d",
   "metadata": {},
   "source": [
    "- school\n",
    "- sex\n",
    "- age\n",
    "- address\n",
    "- famsize\n",
    "- Pstatus\n",
    "- Medu\n",
    "- Fedu\n",
    "- Mjob\n",
    "- Fjob\n",
    "- reason\n",
    "- guardian\n",
    "- traveltime\n",
    "- studytime\n",
    "- failures\n",
    "- schoolsup\n",
    "- famsup\n",
    "- paid\n",
    "- activities\n",
    "- nursery\n",
    "- higher\n",
    "- internet\n",
    "- romantic\n",
    "- famrel\n",
    "- freetime\n",
    "- goout\n",
    "- Dalc\n",
    "- Walc\n",
    "- health\n",
    "- absences\n",
    "- G1\n",
    "- G2\n",
    "- G3\n"
   ]
  },
  {
   "cell_type": "markdown",
   "id": "5ae51673",
   "metadata": {},
   "source": [
    "##### Note: G3 has a strong correlation with attributes G2 and G1. This is because G3 is the final year grade which was issued at the 3rd period, while G1 and G2 correspond to the 1st and 2nd period grades"
   ]
  },
  {
   "cell_type": "markdown",
   "id": "ead0ade6",
   "metadata": {},
   "source": [
    "##### *PROS:*"
   ]
  },
  {
   "cell_type": "markdown",
   "id": "c32de793",
   "metadata": {},
   "source": [
    "- This dataset is recently created.\n",
    "- The dataset contains 33 features so, we can explore different correlations.\n",
    "- The dataset contains no missing values. \n",
    "- We are familiar with the background of the dataset so it is easy to make assumptions or understand relations.\n",
    "- It enables us to understand the underlying factors behind student performance and possibly take measures to better conditions.\n",
    "- The features are of integer, string and Boolean types so we can carry out various analysis procedures. "
   ]
  },
  {
   "cell_type": "markdown",
   "id": "c2ae81b6",
   "metadata": {},
   "source": [
    "##### *CONS:*"
   ]
  },
  {
   "cell_type": "markdown",
   "id": "227f4bfd",
   "metadata": {},
   "source": [
    "- The dataset only includes data from 2 schools in Portugal."
   ]
  },
  {
   "cell_type": "markdown",
   "id": "b501d6b5",
   "metadata": {},
   "source": [
    "### *Comparing the similarities and differences between the 3 datasets:*"
   ]
  },
  {
   "cell_type": "markdown",
   "id": "a4b302a2",
   "metadata": {},
   "source": [
    "##### *Differences:*"
   ]
  },
  {
   "cell_type": "markdown",
   "id": "8dda3d74",
   "metadata": {},
   "source": [
    "- The difference is that the Swiss banknote counterfeit detection mostly consists of only numerical data whereas student performance dataset consists of both numerical values and text.\n",
    "- Global warming analysis is a combination of text and numerical data.\n",
    "- Some data is missing from the global warming dataset whereas the student performance and banknote counterfeit detection dataset is complete.\n",
    "- There are various features in the student performance dataset as compared to the Swiss banknote counterfeit detection dataset.\n",
    "- Student performance dataset and global warming dataset are up-to date whereas Swiss banknote dataset was updated 2 years ago."
   ]
  },
  {
   "cell_type": "markdown",
   "id": "ee95abab",
   "metadata": {},
   "source": [
    "#### *Similarities:*\n",
    "- The first two datasets are simple because they have only seven to eight attributes, making it difficult to generate a large number of samples.\n",
    "- None of the 3 datasets consist of missing values. "
   ]
  },
  {
   "cell_type": "markdown",
   "id": "0a5765f5",
   "metadata": {},
   "source": [
    "### *Reasons for choosing the Student Performance dataset*"
   ]
  },
  {
   "cell_type": "markdown",
   "id": "6ec179b1",
   "metadata": {},
   "source": [
    "###### We’re interested in discovering hidden patterns between student performance and aspects of their personal life and social status that are usually overlooked. For this reason, we chose the Student Performance Data Set [1] from the UCI Machine Learning Repository - an open-source dataset that approaches student achievement in secondary education. It has 33 well-labelled fields of numeric, nominal and binary data types, so it is diverse enough for us to use a variety of different algorithms (especially various classification and regression algorithms). It also has a data dictionary to help us better understand the dataset and is complete with no missing fields, allowing us to make use of every data record. The data was collected using school reports and consented questionnaires. The data is anonymous - cannot be traced back to a particular individual. So, there are no ethical concerns regarding this dataset either.\n",
    "\n",
    "###### On the downside, the data is region based because it only includes data from 2 schools in Portugal. This could lead to more biased findings than if the data was taken from a more diverse demographic of students (in terms of location/nationality). Furthermore, the data set only has 649 instances. We would’ve preferred if there were more data instances for us to work with."
   ]
  },
  {
   "cell_type": "code",
   "execution_count": null,
   "id": "0e1a422b",
   "metadata": {},
   "outputs": [],
   "source": []
  }
 ],
 "metadata": {
  "kernelspec": {
   "display_name": "Python 3 (ipykernel)",
   "language": "python",
   "name": "python3"
  },
  "language_info": {
   "codemirror_mode": {
    "name": "ipython",
    "version": 3
   },
   "file_extension": ".py",
   "mimetype": "text/x-python",
   "name": "python",
   "nbconvert_exporter": "python",
   "pygments_lexer": "ipython3",
   "version": "3.9.12"
  }
 },
 "nbformat": 4,
 "nbformat_minor": 5
}
