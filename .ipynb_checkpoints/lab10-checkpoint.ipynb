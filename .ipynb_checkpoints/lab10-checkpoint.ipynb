{
 "cells": [
  {
   "cell_type": "code",
   "execution_count": 2,
   "metadata": {
    "_cell_guid": "b1076dfc-b9ad-4769-8c92-a6c4dae69d19",
    "_uuid": "8f2839f25d086af736a60e9eeb907d3b93b6e0e5",
    "execution": {
     "iopub.execute_input": "2022-11-21T21:45:37.691812Z",
     "iopub.status.busy": "2022-11-21T21:45:37.691400Z",
     "iopub.status.idle": "2022-11-21T21:50:46.764556Z",
     "shell.execute_reply": "2022-11-21T21:50:46.761728Z",
     "shell.execute_reply.started": "2022-11-21T21:45:37.691780Z"
    }
   },
   "outputs": [
    {
     "ename": "ModuleNotFoundError",
     "evalue": "No module named 'tensorflow'",
     "output_type": "error",
     "traceback": [
      "\u001b[1;31m---------------------------------------------------------------------------\u001b[0m",
      "\u001b[1;31mModuleNotFoundError\u001b[0m                       Traceback (most recent call last)",
      "Input \u001b[1;32mIn [2]\u001b[0m, in \u001b[0;36m<cell line: 35>\u001b[1;34m()\u001b[0m\n\u001b[0;32m     32\u001b[0m     \u001b[38;5;28;01mpass\u001b[39;00m\n\u001b[0;32m     34\u001b[0m \u001b[38;5;66;03m# TensorFlow ≥2.0 is required\u001b[39;00m\n\u001b[1;32m---> 35\u001b[0m \u001b[38;5;28;01mimport\u001b[39;00m \u001b[38;5;21;01mtensorflow\u001b[39;00m \u001b[38;5;28;01mas\u001b[39;00m \u001b[38;5;21;01mtf\u001b[39;00m\n\u001b[0;32m     36\u001b[0m \u001b[38;5;28;01massert\u001b[39;00m tf\u001b[38;5;241m.\u001b[39m__version__ \u001b[38;5;241m>\u001b[39m\u001b[38;5;241m=\u001b[39m \u001b[38;5;124m\"\u001b[39m\u001b[38;5;124m2.0\u001b[39m\u001b[38;5;124m\"\u001b[39m\n\u001b[0;32m     38\u001b[0m \u001b[38;5;28;01mimport\u001b[39;00m \u001b[38;5;21;01mplotly\u001b[39;00m\u001b[38;5;21;01m.\u001b[39;00m\u001b[38;5;21;01mexpress\u001b[39;00m \u001b[38;5;28;01mas\u001b[39;00m \u001b[38;5;21;01mpx\u001b[39;00m\n",
      "\u001b[1;31mModuleNotFoundError\u001b[0m: No module named 'tensorflow'"
     ]
    }
   ],
   "source": [
    "import matplotlib.pyplot as plt\n",
    "import matplotlib as mpl\n",
    "import urllib.request\n",
    "import pandas as pd\n",
    "import urllib\n",
    "import tarfile\n",
    "import os\n",
    "import numpy as np\n",
    "np.random.seed(42)\n",
    "import sklearn\n",
    "import seaborn as sns # importing seaborn for the heatmap\n",
    "import sys\n",
    "assert sys.version_info >= (3, 5)\n",
    "from sklearn.preprocessing import OrdinalEncoder\n",
    "# Python ≥3.5 is required\n",
    "\n",
    "# Scikit-Learn ≥0.20 is required\n",
    "assert sklearn.__version__ >= \"0.20\"\n",
    "\n",
    "# Common imports\n",
    "\n",
    "# To plot pretty figures\n",
    "%matplotlib inline\n",
    "mpl.rc('axes', labelsize=14)\n",
    "mpl.rc('xtick', labelsize=12)\n",
    "mpl.rc('ytick', labelsize=12)\n",
    "\n",
    "try:\n",
    "    # %tensorflow_version only exists in Colab.\n",
    "    %tensorflow_version 2.x\n",
    "except Exception:\n",
    "    pass\n",
    "\n",
    "# TensorFlow ≥2.0 is required\n",
    "import tensorflow as tf\n",
    "assert tf.__version__ >= \"2.0\"\n",
    "\n",
    "import plotly.express as px\n",
    "import matplotlib.patches as patches\n",
    "\n",
    "# work with images\n",
    "from skimage.transform import rotate\n",
    "from skimage import io\n",
    "import cv2 as cv\n",
    "from sklearn.utils import shuffle\n",
    "\n",
    "# Reference- https://github.com/ageron/handson-ml2/blob/master/02_end_to_end_machine_learning_project.ipynb\n",
    "\n",
    "# saving the figures; method can be used later\n",
    "PROJECT_ROOT_DIR = \".\"\n",
    "CHAPTER_ID = \"end_to_end_project\"\n",
    "IMAGES_PATH = os.path.join(PROJECT_ROOT_DIR, \"images\", CHAPTER_ID)\n",
    "os.makedirs(IMAGES_PATH, exist_ok=True)\n",
    "\n",
    "\n",
    "def save_fig(fig_id, tight_layout=True, fig_extension=\"png\", resolution=300):\n",
    "    path = os.path.join(IMAGES_PATH, fig_id + \".\" + fig_extension)\n",
    "    print(\"Saving figure\", fig_id)\n",
    "    if tight_layout:\n",
    "        plt.tight_layout()\n",
    "    plt.savefig(path, format=fig_extension, dpi=resolution)"
   ]
  },
  {
   "cell_type": "code",
   "execution_count": 39,
   "metadata": {
    "execution": {
     "iopub.execute_input": "2022-11-21T21:53:33.798159Z",
     "iopub.status.busy": "2022-11-21T21:53:33.797740Z",
     "iopub.status.idle": "2022-11-21T21:53:33.810997Z",
     "shell.execute_reply": "2022-11-21T21:53:33.809321Z",
     "shell.execute_reply.started": "2022-11-21T21:53:33.798125Z"
    }
   },
   "outputs": [],
   "source": [
    "import matplotlib.pyplot as plt\n",
    "import matplotlib as mpl\n",
    "import urllib.request\n",
    "import pandas as pd\n",
    "import urllib\n",
    "import tarfile\n",
    "import os\n",
    "import numpy as np\n",
    "np.random.seed(42)\n",
    "import sklearn\n",
    "import seaborn as sns # importing seaborn for the heatmap\n",
    "import sys\n",
    "assert sys.version_info >= (3, 5)\n",
    "from sklearn.preprocessing import OrdinalEncoder\n",
    "from glob import glob \n",
    "# Python ≥3.5 is required\n",
    "\n",
    "try:\n",
    "    # %tensorflow_version only exists in Colab.\n",
    "    %tensorflow_version 2.x\n",
    "except Exception:\n",
    "    pass\n",
    "\n",
    "# TensorFlow ≥2.0 is required\n",
    "import tensorflow as tf\n",
    "assert tf.__version__ >= \"2.0\"\n",
    "\n",
    "import plotly.express as px\n",
    "import matplotlib.patches as patches\n",
    "\n",
    "# work with images\n",
    "from skimage.transform import rotate\n",
    "from skimage import io\n",
    "import cv2 as cv\n",
    "from sklearn.utils import shuffle\n",
    "\n",
    "# Scikit-Learn ≥0.20 is required\n",
    "assert sklearn.__version__ >= \"0.20\""
   ]
  },
  {
   "cell_type": "code",
   "execution_count": 3,
   "metadata": {
    "execution": {
     "iopub.execute_input": "2022-11-21T21:53:37.298524Z",
     "iopub.status.busy": "2022-11-21T21:53:37.297974Z",
     "iopub.status.idle": "2022-11-21T21:53:37.567132Z",
     "shell.execute_reply": "2022-11-21T21:53:37.565704Z",
     "shell.execute_reply.started": "2022-11-21T21:53:37.298488Z"
    }
   },
   "outputs": [
    {
     "name": "stdout",
     "output_type": "stream",
     "text": [
      "dimensions: (220025, 2)\n",
      "rows = 220025\n",
      "columns = 2\n"
     ]
    }
   ],
   "source": [
    "# NECESSARY IN KAGGLE NOTEBOOK ONLY\n",
    "#get files\n",
    "# test_path = '../input/histopathologic-cancer-detection/test/'\n",
    "# train_path = '../input/histopathologic-cancer-detection/train/'\n",
    "# sample_submission = pd.read_csv('../input/histopathologic-cancer-detection/sample_submission.csv')\n",
    "# train_data = pd.read_csv('../input/histopathologic-cancer-detection/train_labels.csv')\n",
    "\n",
    "df = pd.read_csv('train_labels.csv')\n",
    "print(\"dimensions:\",df.shape)  # to understand the dimensions of the dataset\n",
    "# to display the number of rows/instances\n",
    "print(\"rows = {}\".format(df.shape[0]))\n",
    "# to display the number of columns/attributes\n",
    "print(\"columns = {}\".format(df.shape[1]))"
   ]
  },
  {
   "cell_type": "code",
   "execution_count": 4,
   "metadata": {
    "execution": {
     "iopub.execute_input": "2022-11-21T21:53:40.899992Z",
     "iopub.status.busy": "2022-11-21T21:53:40.899551Z",
     "iopub.status.idle": "2022-11-21T21:53:40.911895Z",
     "shell.execute_reply": "2022-11-21T21:53:40.910281Z",
     "shell.execute_reply.started": "2022-11-21T21:53:40.899956Z"
    }
   },
   "outputs": [
    {
     "data": {
      "text/html": [
       "<div>\n",
       "<style scoped>\n",
       "    .dataframe tbody tr th:only-of-type {\n",
       "        vertical-align: middle;\n",
       "    }\n",
       "\n",
       "    .dataframe tbody tr th {\n",
       "        vertical-align: top;\n",
       "    }\n",
       "\n",
       "    .dataframe thead th {\n",
       "        text-align: right;\n",
       "    }\n",
       "</style>\n",
       "<table border=\"1\" class=\"dataframe\">\n",
       "  <thead>\n",
       "    <tr style=\"text-align: right;\">\n",
       "      <th></th>\n",
       "      <th>id</th>\n",
       "      <th>label</th>\n",
       "    </tr>\n",
       "  </thead>\n",
       "  <tbody>\n",
       "    <tr>\n",
       "      <th>0</th>\n",
       "      <td>f38a6374c348f90b587e046aac6079959adf3835</td>\n",
       "      <td>0</td>\n",
       "    </tr>\n",
       "    <tr>\n",
       "      <th>1</th>\n",
       "      <td>c18f2d887b7ae4f6742ee445113fa1aef383ed77</td>\n",
       "      <td>1</td>\n",
       "    </tr>\n",
       "    <tr>\n",
       "      <th>2</th>\n",
       "      <td>755db6279dae599ebb4d39a9123cce439965282d</td>\n",
       "      <td>0</td>\n",
       "    </tr>\n",
       "    <tr>\n",
       "      <th>3</th>\n",
       "      <td>bc3f0c64fb968ff4a8bd33af6971ecae77c75e08</td>\n",
       "      <td>0</td>\n",
       "    </tr>\n",
       "    <tr>\n",
       "      <th>4</th>\n",
       "      <td>068aba587a4950175d04c680d38943fd488d6a9d</td>\n",
       "      <td>0</td>\n",
       "    </tr>\n",
       "  </tbody>\n",
       "</table>\n",
       "</div>"
      ],
      "text/plain": [
       "                                         id  label\n",
       "0  f38a6374c348f90b587e046aac6079959adf3835      0\n",
       "1  c18f2d887b7ae4f6742ee445113fa1aef383ed77      1\n",
       "2  755db6279dae599ebb4d39a9123cce439965282d      0\n",
       "3  bc3f0c64fb968ff4a8bd33af6971ecae77c75e08      0\n",
       "4  068aba587a4950175d04c680d38943fd488d6a9d      0"
      ]
     },
     "execution_count": 4,
     "metadata": {},
     "output_type": "execute_result"
    }
   ],
   "source": [
    "df.head()"
   ]
  },
  {
   "cell_type": "code",
   "execution_count": 12,
   "metadata": {
    "execution": {
     "iopub.execute_input": "2022-11-21T21:53:43.314044Z",
     "iopub.status.busy": "2022-11-21T21:53:43.313299Z",
     "iopub.status.idle": "2022-11-21T21:53:44.711112Z",
     "shell.execute_reply": "2022-11-21T21:53:44.709899Z",
     "shell.execute_reply.started": "2022-11-21T21:53:43.314005Z"
    }
   },
   "outputs": [
    {
     "name": "stdout",
     "output_type": "stream",
     "text": [
      "                                                path\n",
      "0  train\\0000d563d5cfafc4e68acb7c9829258a298d9b6a...\n",
      "1  train\\0000da768d06b879e5754c43e2298ce48726f722...\n",
      "2  train\\0000f8a4da4c286eee5cf1b0d2ab82f979989f7b...\n",
      "3  train\\000a2a35668f04edebc0b06d5d133ad90c93a044...\n",
      "4  train\\000aa5d8f68dc1f45ebba53b8f159aae80e06072...\n"
     ]
    }
   ],
   "source": [
    "from glob import glob \n",
    "\n",
    "base_tile_dir = 'train'\n",
    "data = pd.DataFrame({'path': glob(os.path.join(base_tile_dir,'*.tif'))}) # to add lines with.tif to the paths of the images\n",
    "print(data.head())\n",
    "data['id'] = data.path.map(lambda x: os.path.basename(x).split('.')[0]) # to get the image id from the image's name when split by the / in the path\n",
    "data = data.merge(df, on = \"id\")"
   ]
  },
  {
   "cell_type": "code",
   "execution_count": 13,
   "metadata": {
    "execution": {
     "iopub.execute_input": "2022-11-21T21:53:46.070457Z",
     "iopub.status.busy": "2022-11-21T21:53:46.069660Z",
     "iopub.status.idle": "2022-11-21T21:53:46.082709Z",
     "shell.execute_reply": "2022-11-21T21:53:46.081062Z",
     "shell.execute_reply.started": "2022-11-21T21:53:46.070411Z"
    }
   },
   "outputs": [
    {
     "data": {
      "text/plain": [
       "<bound method NDFrame.head of                                                    path  \\\n",
       "0     train\\0000d563d5cfafc4e68acb7c9829258a298d9b6a...   \n",
       "1     train\\0000da768d06b879e5754c43e2298ce48726f722...   \n",
       "2     train\\0000f8a4da4c286eee5cf1b0d2ab82f979989f7b...   \n",
       "3     train\\000a2a35668f04edebc0b06d5d133ad90c93a044...   \n",
       "4     train\\000aa5d8f68dc1f45ebba53b8f159aae80e06072...   \n",
       "...                                                 ...   \n",
       "4995  train\\0f9efcb43cf988f7b3353e0da9469362d18f0201...   \n",
       "4996  train\\0f9f21b84999b2c4573b253b1b45449facb79d0e...   \n",
       "4997  train\\0f9f36b2a572c224258af7655db9d513d7519bf4...   \n",
       "4998  train\\0f9fb92dcadd853d2e56be05ffa2861ab3a86f7e...   \n",
       "4999  train\\0f9fc09886f93460dace9104bf948248173af5ec...   \n",
       "\n",
       "                                            id  label  \n",
       "0     0000d563d5cfafc4e68acb7c9829258a298d9b6a      0  \n",
       "1     0000da768d06b879e5754c43e2298ce48726f722      1  \n",
       "2     0000f8a4da4c286eee5cf1b0d2ab82f979989f7b      0  \n",
       "3     000a2a35668f04edebc0b06d5d133ad90c93a044      1  \n",
       "4     000aa5d8f68dc1f45ebba53b8f159aae80e06072      1  \n",
       "...                                        ...    ...  \n",
       "4995  0f9efcb43cf988f7b3353e0da9469362d18f0201      0  \n",
       "4996  0f9f21b84999b2c4573b253b1b45449facb79d0e      0  \n",
       "4997  0f9f36b2a572c224258af7655db9d513d7519bf4      0  \n",
       "4998  0f9fb92dcadd853d2e56be05ffa2861ab3a86f7e      0  \n",
       "4999  0f9fc09886f93460dace9104bf948248173af5ec      1  \n",
       "\n",
       "[5000 rows x 3 columns]>"
      ]
     },
     "execution_count": 13,
     "metadata": {},
     "output_type": "execute_result"
    }
   ],
   "source": [
    "data.head"
   ]
  },
  {
   "cell_type": "code",
   "execution_count": 14,
   "metadata": {
    "execution": {
     "iopub.execute_input": "2022-11-21T21:53:48.377042Z",
     "iopub.status.busy": "2022-11-21T21:53:48.376257Z",
     "iopub.status.idle": "2022-11-21T21:53:48.384301Z",
     "shell.execute_reply": "2022-11-21T21:53:48.383275Z",
     "shell.execute_reply.started": "2022-11-21T21:53:48.377001Z"
    }
   },
   "outputs": [
    {
     "data": {
      "text/plain": [
       "(5000, 3)"
      ]
     },
     "execution_count": 14,
     "metadata": {},
     "output_type": "execute_result"
    }
   ],
   "source": [
    "data.shape"
   ]
  },
  {
   "cell_type": "code",
   "execution_count": 15,
   "metadata": {
    "execution": {
     "iopub.execute_input": "2022-11-21T21:53:50.422491Z",
     "iopub.status.busy": "2022-11-21T21:53:50.421641Z",
     "iopub.status.idle": "2022-11-21T21:53:50.462249Z",
     "shell.execute_reply": "2022-11-21T21:53:50.460965Z",
     "shell.execute_reply.started": "2022-11-21T21:53:50.422441Z"
    }
   },
   "outputs": [
    {
     "name": "stdout",
     "output_type": "stream",
     "text": [
      "<class 'pandas.core.frame.DataFrame'>\n",
      "Int64Index: 5000 entries, 0 to 4999\n",
      "Data columns (total 3 columns):\n",
      " #   Column  Non-Null Count  Dtype \n",
      "---  ------  --------------  ----- \n",
      " 0   path    5000 non-null   object\n",
      " 1   id      5000 non-null   object\n",
      " 2   label   5000 non-null   int64 \n",
      "dtypes: int64(1), object(2)\n",
      "memory usage: 156.2+ KB\n"
     ]
    }
   ],
   "source": [
    "data.info() # to understand the columns and their types"
   ]
  },
  {
   "cell_type": "code",
   "execution_count": 16,
   "metadata": {
    "execution": {
     "iopub.execute_input": "2022-11-21T21:53:52.435588Z",
     "iopub.status.busy": "2022-11-21T21:53:52.434983Z",
     "iopub.status.idle": "2022-11-21T21:53:52.468184Z",
     "shell.execute_reply": "2022-11-21T21:53:52.466687Z",
     "shell.execute_reply.started": "2022-11-21T21:53:52.435555Z"
    }
   },
   "outputs": [
    {
     "data": {
      "text/plain": [
       "0"
      ]
     },
     "execution_count": 16,
     "metadata": {},
     "output_type": "execute_result"
    }
   ],
   "source": [
    "data.isnull().sum().sum()  # to check for any null values in the dataset"
   ]
  },
  {
   "cell_type": "code",
   "execution_count": 17,
   "metadata": {
    "execution": {
     "iopub.execute_input": "2022-11-21T21:53:55.011682Z",
     "iopub.status.busy": "2022-11-21T21:53:55.010902Z",
     "iopub.status.idle": "2022-11-21T21:53:55.202869Z",
     "shell.execute_reply": "2022-11-21T21:53:55.201440Z",
     "shell.execute_reply.started": "2022-11-21T21:53:55.011586Z"
    }
   },
   "outputs": [
    {
     "data": {
      "text/plain": [
       "count      5000\n",
       "unique        1\n",
       "top       False\n",
       "freq       5000\n",
       "dtype: object"
      ]
     },
     "execution_count": 17,
     "metadata": {},
     "output_type": "execute_result"
    }
   ],
   "source": [
    "data.duplicated().describe() # one unique value of false means no duplicate value"
   ]
  },
  {
   "cell_type": "code",
   "execution_count": 18,
   "metadata": {
    "execution": {
     "iopub.execute_input": "2022-11-21T21:53:57.814254Z",
     "iopub.status.busy": "2022-11-21T21:53:57.813797Z",
     "iopub.status.idle": "2022-11-21T21:53:57.826116Z",
     "shell.execute_reply": "2022-11-21T21:53:57.824710Z",
     "shell.execute_reply.started": "2022-11-21T21:53:57.814214Z"
    }
   },
   "outputs": [
    {
     "data": {
      "text/plain": [
       "0    2985\n",
       "1    2015\n",
       "Name: label, dtype: int64"
      ]
     },
     "execution_count": 18,
     "metadata": {},
     "output_type": "execute_result"
    }
   ],
   "source": [
    "# non-malignant cases- 0\n",
    "# malignant cases- 1\n",
    "data['label'].value_counts() "
   ]
  },
  {
   "cell_type": "code",
   "execution_count": 19,
   "metadata": {
    "execution": {
     "iopub.execute_input": "2022-11-21T21:53:59.750283Z",
     "iopub.status.busy": "2022-11-21T21:53:59.749853Z",
     "iopub.status.idle": "2022-11-21T21:53:59.870049Z",
     "shell.execute_reply": "2022-11-21T21:53:59.868363Z",
     "shell.execute_reply.started": "2022-11-21T21:53:59.750246Z"
    }
   },
   "outputs": [
    {
     "data": {
      "text/plain": [
       "<AxesSubplot:ylabel='label'>"
      ]
     },
     "execution_count": 19,
     "metadata": {},
     "output_type": "execute_result"
    },
    {
     "data": {
      "image/png": "[encoded data removed]",
      "text/plain": [
       "<Figure size 640x480 with 1 Axes>"
      ]
     },
     "metadata": {},
     "output_type": "display_data"
    }
   ],
   "source": [
    "data['label'].value_counts().plot(kind=\"pie\")"
   ]
  },
  {
   "cell_type": "code",
   "execution_count": 20,
   "metadata": {
    "execution": {
     "iopub.execute_input": "2022-11-21T21:54:01.365304Z",
     "iopub.status.busy": "2022-11-21T21:54:01.364853Z",
     "iopub.status.idle": "2022-11-21T21:54:01.377872Z",
     "shell.execute_reply": "2022-11-21T21:54:01.376650Z",
     "shell.execute_reply.started": "2022-11-21T21:54:01.365265Z"
    }
   },
   "outputs": [
    {
     "data": {
      "text/html": [
       "<div>\n",
       "<style scoped>\n",
       "    .dataframe tbody tr th:only-of-type {\n",
       "        vertical-align: middle;\n",
       "    }\n",
       "\n",
       "    .dataframe tbody tr th {\n",
       "        vertical-align: top;\n",
       "    }\n",
       "\n",
       "    .dataframe thead th {\n",
       "        text-align: right;\n",
       "    }\n",
       "</style>\n",
       "<table border=\"1\" class=\"dataframe\">\n",
       "  <thead>\n",
       "    <tr style=\"text-align: right;\">\n",
       "      <th></th>\n",
       "      <th>id</th>\n",
       "      <th>label</th>\n",
       "    </tr>\n",
       "  </thead>\n",
       "  <tbody>\n",
       "    <tr>\n",
       "      <th>0</th>\n",
       "      <td>f38a6374c348f90b587e046aac6079959adf3835</td>\n",
       "      <td>0</td>\n",
       "    </tr>\n",
       "    <tr>\n",
       "      <th>1</th>\n",
       "      <td>c18f2d887b7ae4f6742ee445113fa1aef383ed77</td>\n",
       "      <td>1</td>\n",
       "    </tr>\n",
       "    <tr>\n",
       "      <th>2</th>\n",
       "      <td>755db6279dae599ebb4d39a9123cce439965282d</td>\n",
       "      <td>0</td>\n",
       "    </tr>\n",
       "    <tr>\n",
       "      <th>3</th>\n",
       "      <td>bc3f0c64fb968ff4a8bd33af6971ecae77c75e08</td>\n",
       "      <td>0</td>\n",
       "    </tr>\n",
       "    <tr>\n",
       "      <th>4</th>\n",
       "      <td>068aba587a4950175d04c680d38943fd488d6a9d</td>\n",
       "      <td>0</td>\n",
       "    </tr>\n",
       "  </tbody>\n",
       "</table>\n",
       "</div>"
      ],
      "text/plain": [
       "                                         id  label\n",
       "0  f38a6374c348f90b587e046aac6079959adf3835      0\n",
       "1  c18f2d887b7ae4f6742ee445113fa1aef383ed77      1\n",
       "2  755db6279dae599ebb4d39a9123cce439965282d      0\n",
       "3  bc3f0c64fb968ff4a8bd33af6971ecae77c75e08      0\n",
       "4  068aba587a4950175d04c680d38943fd488d6a9d      0"
      ]
     },
     "execution_count": 20,
     "metadata": {},
     "output_type": "execute_result"
    }
   ],
   "source": [
    "df.head()"
   ]
  },
  {
   "cell_type": "code",
   "execution_count": 25,
   "metadata": {
    "execution": {
     "iopub.execute_input": "2022-11-21T21:54:03.193720Z",
     "iopub.status.busy": "2022-11-21T21:54:03.192654Z",
     "iopub.status.idle": "2022-11-21T21:54:03.252538Z",
     "shell.execute_reply": "2022-11-21T21:54:03.251403Z",
     "shell.execute_reply.started": "2022-11-21T21:54:03.193677Z"
    }
   },
   "outputs": [],
   "source": [
    "m = data.loc[data['label']==1] # malignant\n",
    "nm = data.loc[data['label']==0] # non-malignant #['id'].values"
   ]
  },
  {
   "cell_type": "code",
   "execution_count": 30,
   "metadata": {
    "execution": {
     "iopub.execute_input": "2022-11-21T21:54:05.095171Z",
     "iopub.status.busy": "2022-11-21T21:54:05.094762Z",
     "iopub.status.idle": "2022-11-21T21:54:05.174761Z",
     "shell.execute_reply": "2022-11-21T21:54:05.173438Z",
     "shell.execute_reply.started": "2022-11-21T21:54:05.095129Z"
    }
   },
   "outputs": [
    {
     "ename": "ValueError",
     "evalue": "Cannot take a larger sample than population when 'replace=False'",
     "output_type": "error",
     "traceback": [
      "\u001b[1;31m---------------------------------------------------------------------------\u001b[0m",
      "\u001b[1;31mValueError\u001b[0m                                Traceback (most recent call last)",
      "Input \u001b[1;32mIn [30]\u001b[0m, in \u001b[0;36m<cell line: 2>\u001b[1;34m()\u001b[0m\n\u001b[0;32m      1\u001b[0m \u001b[38;5;66;03m# to sample as many random images as possible (so 89117 is the least of the two values) and ensure the tranining set has equal number of of 0 and 1 cases\u001b[39;00m\n\u001b[1;32m----> 2\u001b[0m custom_image_data \u001b[38;5;241m=\u001b[39m pd\u001b[38;5;241m.\u001b[39mconcat([\u001b[43mm\u001b[49m\u001b[38;5;241;43m.\u001b[39;49m\u001b[43msample\u001b[49m\u001b[43m(\u001b[49m\u001b[38;5;241;43m5000\u001b[39;49m\u001b[43m,\u001b[49m\u001b[43mrandom_state\u001b[49m\u001b[38;5;241;43m=\u001b[39;49m\u001b[38;5;241;43m42\u001b[39;49m\u001b[43m)\u001b[49m, nm\u001b[38;5;241m.\u001b[39msample(\u001b[38;5;241m5000\u001b[39m,random_state\u001b[38;5;241m=\u001b[39m\u001b[38;5;241m42\u001b[39m)], axis\u001b[38;5;241m=\u001b[39m\u001b[38;5;241m0\u001b[39m, ignore_index\u001b[38;5;241m=\u001b[39m\u001b[38;5;28;01mTrue\u001b[39;00m)\u001b[38;5;241m.\u001b[39mreset_index()\n\u001b[0;32m      3\u001b[0m custom_image_data[\u001b[38;5;124m'\u001b[39m\u001b[38;5;124mlabel\u001b[39m\u001b[38;5;124m'\u001b[39m]\u001b[38;5;241m.\u001b[39mvalue_counts()\n",
      "File \u001b[1;32m~\\anaconda3\\envs\\F21DL\\lib\\site-packages\\pandas\\core\\generic.py:5446\u001b[0m, in \u001b[0;36mNDFrame.sample\u001b[1;34m(self, n, frac, replace, weights, random_state, axis, ignore_index)\u001b[0m\n\u001b[0;32m   5443\u001b[0m \u001b[38;5;28;01mif\u001b[39;00m weights \u001b[38;5;129;01mis\u001b[39;00m \u001b[38;5;129;01mnot\u001b[39;00m \u001b[38;5;28;01mNone\u001b[39;00m:\n\u001b[0;32m   5444\u001b[0m     weights \u001b[38;5;241m=\u001b[39m sample\u001b[38;5;241m.\u001b[39mpreprocess_weights(\u001b[38;5;28mself\u001b[39m, weights, axis)\n\u001b[1;32m-> 5446\u001b[0m sampled_indices \u001b[38;5;241m=\u001b[39m \u001b[43msample\u001b[49m\u001b[38;5;241;43m.\u001b[39;49m\u001b[43msample\u001b[49m\u001b[43m(\u001b[49m\u001b[43mobj_len\u001b[49m\u001b[43m,\u001b[49m\u001b[43m \u001b[49m\u001b[43msize\u001b[49m\u001b[43m,\u001b[49m\u001b[43m \u001b[49m\u001b[43mreplace\u001b[49m\u001b[43m,\u001b[49m\u001b[43m \u001b[49m\u001b[43mweights\u001b[49m\u001b[43m,\u001b[49m\u001b[43m \u001b[49m\u001b[43mrs\u001b[49m\u001b[43m)\u001b[49m\n\u001b[0;32m   5447\u001b[0m result \u001b[38;5;241m=\u001b[39m \u001b[38;5;28mself\u001b[39m\u001b[38;5;241m.\u001b[39mtake(sampled_indices, axis\u001b[38;5;241m=\u001b[39maxis)\n\u001b[0;32m   5449\u001b[0m \u001b[38;5;28;01mif\u001b[39;00m ignore_index:\n",
      "File \u001b[1;32m~\\anaconda3\\envs\\F21DL\\lib\\site-packages\\pandas\\core\\sample.py:150\u001b[0m, in \u001b[0;36msample\u001b[1;34m(obj_len, size, replace, weights, random_state)\u001b[0m\n\u001b[0;32m    147\u001b[0m     \u001b[38;5;28;01melse\u001b[39;00m:\n\u001b[0;32m    148\u001b[0m         \u001b[38;5;28;01mraise\u001b[39;00m \u001b[38;5;167;01mValueError\u001b[39;00m(\u001b[38;5;124m\"\u001b[39m\u001b[38;5;124mInvalid weights: weights sum to zero\u001b[39m\u001b[38;5;124m\"\u001b[39m)\n\u001b[1;32m--> 150\u001b[0m \u001b[38;5;28;01mreturn\u001b[39;00m \u001b[43mrandom_state\u001b[49m\u001b[38;5;241;43m.\u001b[39;49m\u001b[43mchoice\u001b[49m\u001b[43m(\u001b[49m\u001b[43mobj_len\u001b[49m\u001b[43m,\u001b[49m\u001b[43m \u001b[49m\u001b[43msize\u001b[49m\u001b[38;5;241;43m=\u001b[39;49m\u001b[43msize\u001b[49m\u001b[43m,\u001b[49m\u001b[43m \u001b[49m\u001b[43mreplace\u001b[49m\u001b[38;5;241;43m=\u001b[39;49m\u001b[43mreplace\u001b[49m\u001b[43m,\u001b[49m\u001b[43m \u001b[49m\u001b[43mp\u001b[49m\u001b[38;5;241;43m=\u001b[39;49m\u001b[43mweights\u001b[49m\u001b[43m)\u001b[49m\u001b[38;5;241m.\u001b[39mastype(\n\u001b[0;32m    151\u001b[0m     np\u001b[38;5;241m.\u001b[39mintp, copy\u001b[38;5;241m=\u001b[39m\u001b[38;5;28;01mFalse\u001b[39;00m\n\u001b[0;32m    152\u001b[0m )\n",
      "File \u001b[1;32mmtrand.pyx:965\u001b[0m, in \u001b[0;36mnumpy.random.mtrand.RandomState.choice\u001b[1;34m()\u001b[0m\n",
      "\u001b[1;31mValueError\u001b[0m: Cannot take a larger sample than population when 'replace=False'"
     ]
    }
   ],
   "source": [
    "# to sample as many random images as possible (so 89117 is the least of the two values) and ensure the tranining set has equal number of of 0 and 1 cases\n",
    "custom_image_data = pd.concat([m.sample(5000,random_state=42), nm.sample(5000,random_state=42)], axis=0, ignore_index=True).reset_index()\n",
    "custom_image_data['label'].value_counts() # to verify the process "
   ]
  },
  {
   "cell_type": "code",
   "execution_count": 54,
   "metadata": {
    "execution": {
     "iopub.execute_input": "2022-11-21T21:54:06.829697Z",
     "iopub.status.busy": "2022-11-21T21:54:06.828948Z",
     "iopub.status.idle": "2022-11-21T21:54:06.837577Z",
     "shell.execute_reply": "2022-11-21T21:54:06.836331Z",
     "shell.execute_reply.started": "2022-11-21T21:54:06.829659Z"
    }
   },
   "outputs": [
    {
     "data": {
      "text/plain": [
       "Index(['index', 'path', 'id', 'label'], dtype='object')"
      ]
     },
     "execution_count": 54,
     "metadata": {},
     "output_type": "execute_result"
    }
   ],
   "source": [
    "custom_image_data.columns"
   ]
  },
  {
   "cell_type": "markdown",
   "metadata": {},
   "source": [
    " ## 0 - No cancer cells, 1 - Cancer cells"
   ]
  },
  {
   "cell_type": "markdown",
   "metadata": {},
   "source": []
  },
  {
   "cell_type": "code",
   "execution_count": 55,
   "metadata": {
    "execution": {
     "iopub.execute_input": "2022-11-21T21:54:10.053956Z",
     "iopub.status.busy": "2022-11-21T21:54:10.053555Z",
     "iopub.status.idle": "2022-11-21T21:54:10.298637Z",
     "shell.execute_reply": "2022-11-21T21:54:10.297305Z",
     "shell.execute_reply.started": "2022-11-21T21:54:10.053925Z"
    }
   },
   "outputs": [
    {
     "data": {
      "image/png": "[encoded data removed]",
      "text/plain": [
       "<Figure size 432x288 with 1 Axes>"
      ]
     },
     "metadata": {
      "needs_background": "light"
     },
     "output_type": "display_data"
    }
   ],
   "source": [
    "import matplotlib.image as mpimg\n",
    "\n",
    "img = mpimg.imread(f'../input/histopathologic-cancer-detection/train/{custom_image_data.iloc[100][2]}.tif')\n",
    "imgplot = plt.imshow(img)"
   ]
  },
  {
   "cell_type": "code",
   "execution_count": 29,
   "metadata": {
    "execution": {
     "iopub.execute_input": "2022-11-21T22:16:53.015042Z",
     "iopub.status.busy": "2022-11-21T22:16:53.014577Z",
     "iopub.status.idle": "2022-11-21T22:16:53.071300Z",
     "shell.execute_reply": "2022-11-21T22:16:53.069859Z",
     "shell.execute_reply.started": "2022-11-21T22:16:53.014994Z"
    }
   },
   "outputs": [
    {
     "name": "stderr",
     "output_type": "stream",
     "text": [
      "C:\\Users\\HP\\AppData\\Local\\Temp\\ipykernel_8972\\2821011634.py:1: UserWarning: Boolean Series key will be reindexed to match DataFrame index.\n",
      "  data0 = data[df.label == 0].sample(5000, random_state = 42)\n"
     ]
    },
    {
     "ename": "ValueError",
     "evalue": "Cannot take a larger sample than population when 'replace=False'",
     "output_type": "error",
     "traceback": [
      "\u001b[1;31m---------------------------------------------------------------------------\u001b[0m",
      "\u001b[1;31mValueError\u001b[0m                                Traceback (most recent call last)",
      "Input \u001b[1;32mIn [29]\u001b[0m, in \u001b[0;36m<cell line: 1>\u001b[1;34m()\u001b[0m\n\u001b[1;32m----> 1\u001b[0m data0 \u001b[38;5;241m=\u001b[39m \u001b[43mdata\u001b[49m\u001b[43m[\u001b[49m\u001b[43mdf\u001b[49m\u001b[38;5;241;43m.\u001b[39;49m\u001b[43mlabel\u001b[49m\u001b[43m \u001b[49m\u001b[38;5;241;43m==\u001b[39;49m\u001b[43m \u001b[49m\u001b[38;5;241;43m0\u001b[39;49m\u001b[43m]\u001b[49m\u001b[38;5;241;43m.\u001b[39;49m\u001b[43msample\u001b[49m\u001b[43m(\u001b[49m\u001b[38;5;241;43m5000\u001b[39;49m\u001b[43m,\u001b[49m\u001b[43m \u001b[49m\u001b[43mrandom_state\u001b[49m\u001b[43m \u001b[49m\u001b[38;5;241;43m=\u001b[39;49m\u001b[43m \u001b[49m\u001b[38;5;241;43m42\u001b[39;49m\u001b[43m)\u001b[49m\n\u001b[0;32m      2\u001b[0m data1 \u001b[38;5;241m=\u001b[39m data[df\u001b[38;5;241m.\u001b[39mlabel \u001b[38;5;241m==\u001b[39m \u001b[38;5;241m1\u001b[39m]\u001b[38;5;241m.\u001b[39msample(\u001b[38;5;241m5000\u001b[39m, random_state \u001b[38;5;241m=\u001b[39m \u001b[38;5;241m42\u001b[39m)\n\u001b[0;32m      3\u001b[0m data \u001b[38;5;241m=\u001b[39m pd\u001b[38;5;241m.\u001b[39mconcat([data0, data1], ignore_index\u001b[38;5;241m=\u001b[39m\u001b[38;5;28;01mTrue\u001b[39;00m)\u001b[38;5;241m.\u001b[39mreset_index()\n",
      "File \u001b[1;32m~\\anaconda3\\envs\\F21DL\\lib\\site-packages\\pandas\\core\\generic.py:5446\u001b[0m, in \u001b[0;36mNDFrame.sample\u001b[1;34m(self, n, frac, replace, weights, random_state, axis, ignore_index)\u001b[0m\n\u001b[0;32m   5443\u001b[0m \u001b[38;5;28;01mif\u001b[39;00m weights \u001b[38;5;129;01mis\u001b[39;00m \u001b[38;5;129;01mnot\u001b[39;00m \u001b[38;5;28;01mNone\u001b[39;00m:\n\u001b[0;32m   5444\u001b[0m     weights \u001b[38;5;241m=\u001b[39m sample\u001b[38;5;241m.\u001b[39mpreprocess_weights(\u001b[38;5;28mself\u001b[39m, weights, axis)\n\u001b[1;32m-> 5446\u001b[0m sampled_indices \u001b[38;5;241m=\u001b[39m \u001b[43msample\u001b[49m\u001b[38;5;241;43m.\u001b[39;49m\u001b[43msample\u001b[49m\u001b[43m(\u001b[49m\u001b[43mobj_len\u001b[49m\u001b[43m,\u001b[49m\u001b[43m \u001b[49m\u001b[43msize\u001b[49m\u001b[43m,\u001b[49m\u001b[43m \u001b[49m\u001b[43mreplace\u001b[49m\u001b[43m,\u001b[49m\u001b[43m \u001b[49m\u001b[43mweights\u001b[49m\u001b[43m,\u001b[49m\u001b[43m \u001b[49m\u001b[43mrs\u001b[49m\u001b[43m)\u001b[49m\n\u001b[0;32m   5447\u001b[0m result \u001b[38;5;241m=\u001b[39m \u001b[38;5;28mself\u001b[39m\u001b[38;5;241m.\u001b[39mtake(sampled_indices, axis\u001b[38;5;241m=\u001b[39maxis)\n\u001b[0;32m   5449\u001b[0m \u001b[38;5;28;01mif\u001b[39;00m ignore_index:\n",
      "File \u001b[1;32m~\\anaconda3\\envs\\F21DL\\lib\\site-packages\\pandas\\core\\sample.py:150\u001b[0m, in \u001b[0;36msample\u001b[1;34m(obj_len, size, replace, weights, random_state)\u001b[0m\n\u001b[0;32m    147\u001b[0m     \u001b[38;5;28;01melse\u001b[39;00m:\n\u001b[0;32m    148\u001b[0m         \u001b[38;5;28;01mraise\u001b[39;00m \u001b[38;5;167;01mValueError\u001b[39;00m(\u001b[38;5;124m\"\u001b[39m\u001b[38;5;124mInvalid weights: weights sum to zero\u001b[39m\u001b[38;5;124m\"\u001b[39m)\n\u001b[1;32m--> 150\u001b[0m \u001b[38;5;28;01mreturn\u001b[39;00m \u001b[43mrandom_state\u001b[49m\u001b[38;5;241;43m.\u001b[39;49m\u001b[43mchoice\u001b[49m\u001b[43m(\u001b[49m\u001b[43mobj_len\u001b[49m\u001b[43m,\u001b[49m\u001b[43m \u001b[49m\u001b[43msize\u001b[49m\u001b[38;5;241;43m=\u001b[39;49m\u001b[43msize\u001b[49m\u001b[43m,\u001b[49m\u001b[43m \u001b[49m\u001b[43mreplace\u001b[49m\u001b[38;5;241;43m=\u001b[39;49m\u001b[43mreplace\u001b[49m\u001b[43m,\u001b[49m\u001b[43m \u001b[49m\u001b[43mp\u001b[49m\u001b[38;5;241;43m=\u001b[39;49m\u001b[43mweights\u001b[49m\u001b[43m)\u001b[49m\u001b[38;5;241m.\u001b[39mastype(\n\u001b[0;32m    151\u001b[0m     np\u001b[38;5;241m.\u001b[39mintp, copy\u001b[38;5;241m=\u001b[39m\u001b[38;5;28;01mFalse\u001b[39;00m\n\u001b[0;32m    152\u001b[0m )\n",
      "File \u001b[1;32mmtrand.pyx:965\u001b[0m, in \u001b[0;36mnumpy.random.mtrand.RandomState.choice\u001b[1;34m()\u001b[0m\n",
      "\u001b[1;31mValueError\u001b[0m: Cannot take a larger sample than population when 'replace=False'"
     ]
    }
   ],
   "source": [
    "data0 = data[df.label == 0].sample(5000, random_state = 42)\n",
    "data1 = data[df.label == 1].sample(5000, random_state = 42)\n",
    "data = pd.concat([data0, data1], ignore_index=True).reset_index()\n",
    "data = data[[\"path\", \"id\", \"label\"]]\n",
    "data.sample(10)"
   ]
  },
  {
   "cell_type": "code",
   "execution_count": 60,
   "metadata": {
    "execution": {
     "iopub.execute_input": "2022-11-21T22:16:59.535645Z",
     "iopub.status.busy": "2022-11-21T22:16:59.534296Z",
     "iopub.status.idle": "2022-11-21T22:18:10.288883Z",
     "shell.execute_reply": "2022-11-21T22:18:10.287596Z",
     "shell.execute_reply.started": "2022-11-21T22:16:59.535593Z"
    }
   },
   "outputs": [
    {
     "data": {
      "text/html": [
       "<div>\n",
       "<style scoped>\n",
       "    .dataframe tbody tr th:only-of-type {\n",
       "        vertical-align: middle;\n",
       "    }\n",
       "\n",
       "    .dataframe tbody tr th {\n",
       "        vertical-align: top;\n",
       "    }\n",
       "\n",
       "    .dataframe thead th {\n",
       "        text-align: right;\n",
       "    }\n",
       "</style>\n",
       "<table border=\"1\" class=\"dataframe\">\n",
       "  <thead>\n",
       "    <tr style=\"text-align: right;\">\n",
       "      <th></th>\n",
       "      <th>path</th>\n",
       "      <th>id</th>\n",
       "      <th>label</th>\n",
       "      <th>image</th>\n",
       "    </tr>\n",
       "  </thead>\n",
       "  <tbody>\n",
       "    <tr>\n",
       "      <th>6366</th>\n",
       "      <td>../input/histopathologic-cancer-detection/trai...</td>\n",
       "      <td>2fee1c6289789b38950111f02a2e42448baf1e24</td>\n",
       "      <td>0</td>\n",
       "      <td>[[[48, 20, 122], [42, 16, 115], [48, 23, 117],...</td>\n",
       "    </tr>\n",
       "    <tr>\n",
       "      <th>9628</th>\n",
       "      <td>../input/histopathologic-cancer-detection/trai...</td>\n",
       "      <td>1663d8046087ca54b5d55da7856e09982cb9901f</td>\n",
       "      <td>0</td>\n",
       "      <td>[[[229, 184, 223], [226, 181, 220], [167, 121,...</td>\n",
       "    </tr>\n",
       "    <tr>\n",
       "      <th>5916</th>\n",
       "      <td>../input/histopathologic-cancer-detection/trai...</td>\n",
       "      <td>31da63c5c899eb80c848f9539dbbfc283b245c5f</td>\n",
       "      <td>0</td>\n",
       "      <td>[[[235, 225, 233], [242, 232, 240], [220, 213,...</td>\n",
       "    </tr>\n",
       "  </tbody>\n",
       "</table>\n",
       "</div>"
      ],
      "text/plain": [
       "                                                   path  \\\n",
       "6366  ../input/histopathologic-cancer-detection/trai...   \n",
       "9628  ../input/histopathologic-cancer-detection/trai...   \n",
       "5916  ../input/histopathologic-cancer-detection/trai...   \n",
       "\n",
       "                                            id  label  \\\n",
       "6366  2fee1c6289789b38950111f02a2e42448baf1e24      0   \n",
       "9628  1663d8046087ca54b5d55da7856e09982cb9901f      0   \n",
       "5916  31da63c5c899eb80c848f9539dbbfc283b245c5f      0   \n",
       "\n",
       "                                                  image  \n",
       "6366  [[[48, 20, 122], [42, 16, 115], [48, 23, 117],...  \n",
       "9628  [[[229, 184, 223], [226, 181, 220], [167, 121,...  \n",
       "5916  [[[235, 225, 233], [242, 232, 240], [220, 213,...  "
      ]
     },
     "execution_count": 60,
     "metadata": {},
     "output_type": "execute_result"
    }
   ],
   "source": [
    "from skimage.io import imread #read images from files\n",
    "data['image'] = data['path'].map(imread)\n",
    "data.sample(3)"
   ]
  },
  {
   "cell_type": "code",
   "execution_count": 61,
   "metadata": {
    "execution": {
     "iopub.execute_input": "2022-11-21T22:19:58.775243Z",
     "iopub.status.busy": "2022-11-21T22:19:58.774834Z",
     "iopub.status.idle": "2022-11-21T22:19:58.929605Z",
     "shell.execute_reply": "2022-11-21T22:19:58.928232Z",
     "shell.execute_reply.started": "2022-11-21T22:19:58.775210Z"
    }
   },
   "outputs": [
    {
     "data": {
      "text/plain": [
       "(10000, 96, 96, 3)"
      ]
     },
     "execution_count": 61,
     "metadata": {},
     "output_type": "execute_result"
    }
   ],
   "source": [
    "input_images = np.stack(list(data.image), axis = 0)\n",
    "input_images.shape"
   ]
  },
  {
   "cell_type": "code",
   "execution_count": 63,
   "metadata": {
    "execution": {
     "iopub.execute_input": "2022-11-21T22:20:20.154724Z",
     "iopub.status.busy": "2022-11-21T22:20:20.154304Z",
     "iopub.status.idle": "2022-11-21T22:20:20.285833Z",
     "shell.execute_reply": "2022-11-21T22:20:20.284797Z",
     "shell.execute_reply.started": "2022-11-21T22:20:20.154692Z"
    }
   },
   "outputs": [],
   "source": [
    "from sklearn.model_selection import train_test_split\n",
    "from sklearn.preprocessing import LabelBinarizer\n",
    "from keras.utils import np_utils\n",
    "\n",
    "\n",
    "train_fraction = 0.8\n",
    "\n",
    "encoder = LabelBinarizer()\n",
    "y = encoder.fit_transform(data.label)\n",
    "x = input_images\n",
    "\n",
    "train_tensors, test_tensors, train_targets, test_targets =\\\n",
    "    train_test_split(x, y, train_size = train_fraction, random_state = 42)\n",
    "\n",
    "val_size = int(0.5*len(test_tensors))\n",
    "\n",
    "val_tensors = test_tensors[:val_size]\n",
    "val_targets = test_targets[:val_size]\n",
    "test_tensors = test_tensors[val_size:]\n",
    "test_targets = test_targets[val_size:]"
   ]
  },
  {
   "cell_type": "code",
   "execution_count": 64,
   "metadata": {
    "execution": {
     "iopub.execute_input": "2022-11-21T22:20:33.251620Z",
     "iopub.status.busy": "2022-11-21T22:20:33.251188Z",
     "iopub.status.idle": "2022-11-21T22:20:33.259961Z",
     "shell.execute_reply": "2022-11-21T22:20:33.258729Z",
     "shell.execute_reply.started": "2022-11-21T22:20:33.251587Z"
    }
   },
   "outputs": [
    {
     "data": {
      "text/plain": [
       "'2.6.4'"
      ]
     },
     "execution_count": 64,
     "metadata": {},
     "output_type": "execute_result"
    }
   ],
   "source": [
    "import tensorflow as tf\n",
    "from tensorflow import keras\n",
    "from tensorflow.keras import layers\n",
    "from tensorflow.keras.preprocessing.image import ImageDataGenerator\n",
    "import keras_tuner as kt\n",
    "tf.__version__"
   ]
  },
  {
   "cell_type": "code",
   "execution_count": 86,
   "metadata": {
    "execution": {
     "iopub.execute_input": "2022-11-21T22:38:17.296180Z",
     "iopub.status.busy": "2022-11-21T22:38:17.295507Z",
     "iopub.status.idle": "2022-11-21T22:38:17.340867Z",
     "shell.execute_reply": "2022-11-21T22:38:17.339813Z",
     "shell.execute_reply.started": "2022-11-21T22:38:17.296145Z"
    }
   },
   "outputs": [],
   "source": [
    "# model = keras.models.Sequential()\n",
    "# model.add(keras.layers.Flatten(input_shape = (96, 96, 3)))\n",
    "\n",
    "# model.add(Dense(1, activation = 'sigmoid'))"
   ]
  },
  {
   "cell_type": "code",
   "execution_count": 88,
   "metadata": {
    "execution": {
     "iopub.execute_input": "2022-11-21T22:38:24.595940Z",
     "iopub.status.busy": "2022-11-21T22:38:24.595089Z",
     "iopub.status.idle": "2022-11-21T22:38:24.607517Z",
     "shell.execute_reply": "2022-11-21T22:38:24.606152Z",
     "shell.execute_reply.started": "2022-11-21T22:38:24.595890Z"
    }
   },
   "outputs": [],
   "source": [
    "# model.compile(loss=\"binary_crossentropy\",\n",
    "#               optimizer=\"sgd\",\n",
    "#               metrics=[\"accuracy\"])"
   ]
  },
  {
   "cell_type": "code",
   "execution_count": 93,
   "metadata": {
    "execution": {
     "iopub.execute_input": "2022-11-21T22:50:21.441900Z",
     "iopub.status.busy": "2022-11-21T22:50:21.441481Z",
     "iopub.status.idle": "2022-11-21T22:50:21.447470Z",
     "shell.execute_reply": "2022-11-21T22:50:21.446054Z",
     "shell.execute_reply.started": "2022-11-21T22:50:21.441868Z"
    }
   },
   "outputs": [],
   "source": [
    "# epochs = 15\n",
    "# model.fit(train_tensors, train_targets, \n",
    "#           validation_data=(val_tensors, val_targets),\n",
    "#           epochs=epochs, verbose=1)"
   ]
  },
  {
   "cell_type": "code",
   "execution_count": 94,
   "metadata": {
    "execution": {
     "iopub.execute_input": "2022-11-21T22:50:39.131193Z",
     "iopub.status.busy": "2022-11-21T22:50:39.130425Z",
     "iopub.status.idle": "2022-11-21T22:50:39.308569Z",
     "shell.execute_reply": "2022-11-21T22:50:39.307600Z",
     "shell.execute_reply.started": "2022-11-21T22:50:39.131140Z"
    }
   },
   "outputs": [],
   "source": [
    "from keras.layers import Conv2D, MaxPooling2D, GlobalAveragePooling2D, GlobalMaxPooling2D\n",
    "from keras.layers import Dropout, Flatten, Dense\n",
    "from keras.callbacks import EarlyStopping, ModelCheckpoint\n",
    "from keras.models import Sequential\n",
    "\n",
    "np.random.seed(42)\n",
    "\n",
    "early_stopping = EarlyStopping(monitor = 'val_loss', patience = 5)\n",
    "checkpointer = ModelCheckpoint(filepath='weights.hdf5', \n",
    "                               verbose=1, save_best_only=True)\n",
    "model = Sequential()\n",
    "model.add(Conv2D(filters = 16, kernel_size = 3, padding = 'same', activation = 'relu', input_shape = (96, 96, 3)))\n",
    "model.add(Conv2D(filters = 16, kernel_size = 3, padding = 'same', activation = 'relu'))\n",
    "model.add(Conv2D(filters = 16, kernel_size = 3, padding = 'same', activation = 'relu'))\n",
    "model.add(Dropout(0.3))\n",
    "model.add(MaxPooling2D(pool_size = 3)) \n",
    "\n",
    "model.add(Conv2D(filters = 32, kernel_size = 3, padding = 'same', activation = 'relu')) \n",
    "model.add(Conv2D(filters = 32, kernel_size = 3, padding = 'same', activation = 'relu')) \n",
    "model.add(Conv2D(filters = 32, kernel_size = 3, padding = 'same', activation = 'relu'))\n",
    "model.add(Dropout(0.3))\n",
    "model.add(MaxPooling2D(pool_size = 3)) \n",
    "\n",
    "model.add(Conv2D(filters = 64, kernel_size = 3, padding = 'same', activation = 'relu'))\n",
    "model.add(Conv2D(filters = 64, kernel_size = 3, padding = 'same', activation = 'relu'))\n",
    "model.add(Conv2D(filters = 64, kernel_size = 3, padding = 'same', activation = 'relu'))\n",
    "model.add(Dropout(0.3))\n",
    "model.add(MaxPooling2D(pool_size = 3))\n",
    "\n",
    "model.add(Conv2D(filters = 128, kernel_size = 3, padding = 'same', activation = 'elu'))\n",
    "model.add(Conv2D(filters = 128, kernel_size = 3, padding = 'same', activation = 'elu'))\n",
    "model.add(Conv2D(filters = 256, kernel_size = 3, padding = 'same', activation = 'elu'))\n",
    "\n",
    "model.add(Flatten())\n",
    "model.add(Dense(1, activation = 'sigmoid'))"
   ]
  },
  {
   "cell_type": "code",
   "execution_count": 95,
   "metadata": {
    "execution": {
     "iopub.execute_input": "2022-11-21T22:50:46.638690Z",
     "iopub.status.busy": "2022-11-21T22:50:46.637920Z",
     "iopub.status.idle": "2022-11-21T23:04:00.938945Z",
     "shell.execute_reply": "2022-11-21T23:04:00.937683Z",
     "shell.execute_reply.started": "2022-11-21T22:50:46.638651Z"
    }
   },
   "outputs": [
    {
     "name": "stdout",
     "output_type": "stream",
     "text": [
      "Epoch 1/15\n",
      "100/100 [==============================] - 54s 533ms/step - loss: 0.6392 - accuracy: 0.6994 - val_loss: 0.5892 - val_accuracy: 0.7480\n",
      "\n",
      "Epoch 00001: val_loss improved from inf to 0.58922, saving model to weights.hdf5\n",
      "Epoch 2/15\n",
      "100/100 [==============================] - 52s 523ms/step - loss: 0.5013 - accuracy: 0.7674 - val_loss: 0.5175 - val_accuracy: 0.7800\n",
      "\n",
      "Epoch 00002: val_loss improved from 0.58922 to 0.51750, saving model to weights.hdf5\n",
      "Epoch 3/15\n",
      "100/100 [==============================] - 53s 530ms/step - loss: 0.4798 - accuracy: 0.7790 - val_loss: 0.5497 - val_accuracy: 0.7430\n",
      "\n",
      "Epoch 00003: val_loss did not improve from 0.51750\n",
      "Epoch 4/15\n",
      "100/100 [==============================] - 53s 527ms/step - loss: 0.4710 - accuracy: 0.7870 - val_loss: 0.5236 - val_accuracy: 0.7680\n",
      "\n",
      "Epoch 00004: val_loss did not improve from 0.51750\n",
      "Epoch 5/15\n",
      "100/100 [==============================] - 53s 527ms/step - loss: 0.4645 - accuracy: 0.7897 - val_loss: 0.5145 - val_accuracy: 0.7820\n",
      "\n",
      "Epoch 00005: val_loss improved from 0.51750 to 0.51454, saving model to weights.hdf5\n",
      "Epoch 6/15\n",
      "100/100 [==============================] - 53s 528ms/step - loss: 0.4547 - accuracy: 0.7933 - val_loss: 0.4695 - val_accuracy: 0.7970\n",
      "\n",
      "Epoch 00006: val_loss improved from 0.51454 to 0.46949, saving model to weights.hdf5\n",
      "Epoch 7/15\n",
      "100/100 [==============================] - 53s 529ms/step - loss: 0.4533 - accuracy: 0.7970 - val_loss: 0.4806 - val_accuracy: 0.8000\n",
      "\n",
      "Epoch 00007: val_loss did not improve from 0.46949\n",
      "Epoch 8/15\n",
      "100/100 [==============================] - 52s 520ms/step - loss: 0.4414 - accuracy: 0.8008 - val_loss: 0.4801 - val_accuracy: 0.7970\n",
      "\n",
      "Epoch 00008: val_loss did not improve from 0.46949\n",
      "Epoch 9/15\n",
      "100/100 [==============================] - 53s 529ms/step - loss: 0.4369 - accuracy: 0.8050 - val_loss: 0.5104 - val_accuracy: 0.7680\n",
      "\n",
      "Epoch 00009: val_loss did not improve from 0.46949\n",
      "Epoch 10/15\n",
      "100/100 [==============================] - 53s 529ms/step - loss: 0.4252 - accuracy: 0.8084 - val_loss: 0.4769 - val_accuracy: 0.7810\n",
      "\n",
      "Epoch 00010: val_loss did not improve from 0.46949\n",
      "Epoch 11/15\n",
      "100/100 [==============================] - 52s 525ms/step - loss: 0.4193 - accuracy: 0.8124 - val_loss: 0.4523 - val_accuracy: 0.7910\n",
      "\n",
      "Epoch 00011: val_loss improved from 0.46949 to 0.45231, saving model to weights.hdf5\n",
      "Epoch 12/15\n",
      "100/100 [==============================] - 53s 535ms/step - loss: 0.4195 - accuracy: 0.8159 - val_loss: 0.4534 - val_accuracy: 0.7890\n",
      "\n",
      "Epoch 00012: val_loss did not improve from 0.45231\n",
      "Epoch 13/15\n",
      "100/100 [==============================] - 53s 533ms/step - loss: 0.4130 - accuracy: 0.8191 - val_loss: 0.4920 - val_accuracy: 0.7760\n",
      "\n",
      "Epoch 00013: val_loss did not improve from 0.45231\n",
      "Epoch 14/15\n",
      "100/100 [==============================] - 52s 524ms/step - loss: 0.4023 - accuracy: 0.8219 - val_loss: 0.5099 - val_accuracy: 0.7570\n",
      "\n",
      "Epoch 00014: val_loss did not improve from 0.45231\n",
      "Epoch 15/15\n",
      "100/100 [==============================] - 54s 537ms/step - loss: 0.4027 - accuracy: 0.8244 - val_loss: 0.4532 - val_accuracy: 0.8080\n",
      "\n",
      "Epoch 00015: val_loss did not improve from 0.45231\n"
     ]
    },
    {
     "data": {
      "text/plain": [
       "<keras.callbacks.History at 0x7f995f767710>"
      ]
     },
     "execution_count": 95,
     "metadata": {},
     "output_type": "execute_result"
    }
   ],
   "source": [
    "import keras.backend as K\n",
    "\n",
    "def auc(y_true, y_pred):   \n",
    "    ptas = tf.stack([binary_PTA(y_true,y_pred,k) for k in np.linspace(0, 1, 1000)],axis=0)\n",
    "    pfas = tf.stack([binary_PFA(y_true,y_pred,k) for k in np.linspace(0, 1, 1000)],axis=0)\n",
    "    pfas = tf.concat([tf.ones((1,)) ,pfas],axis=0)\n",
    "    binSizes = -(pfas[1:]-pfas[:-1])\n",
    "    s = ptas*binSizes\n",
    "    return K.sum(s, axis=0)\n",
    "\n",
    "#---------------------\n",
    "# PFA, prob false alert for binary classifier\n",
    "def binary_PFA(y_true, y_pred, threshold=K.variable(value=0.5)):\n",
    "    y_pred = K.cast(y_pred >= threshold, 'float32')\n",
    "    # N = total number of negative labels\n",
    "    N = K.sum(1 - y_true)\n",
    "    # FP = total number of false alerts, alerts from the negative class labels\n",
    "    FP = K.sum(y_pred - y_pred * y_true)\n",
    "    return FP/N\n",
    "\n",
    "#----------------\n",
    "# PTA prob true alerts for binary classifier\n",
    "def binary_PTA(y_true, y_pred, threshold=K.variable(value=0.5)):\n",
    "    y_pred = K.cast(y_pred >= threshold, 'float32')\n",
    "    # P = total number of positive labels\n",
    "    P = K.sum(y_true)\n",
    "    # TP = total number of correct alerts, alerts from the positive class labels\n",
    "    TP = K.sum(y_pred * y_true)\n",
    "    return TP/P\n",
    "\n",
    "model.compile(optimizer= 'adam', loss='binary_crossentropy', metrics=['accuracy'])\n",
    "epochs = 15\n",
    "model.fit(train_tensors, train_targets, \n",
    "          validation_data=(val_tensors, val_targets),\n",
    "          epochs=epochs, batch_size=80, verbose=1, callbacks = [early_stopping, checkpointer])"
   ]
  },
  {
   "cell_type": "code",
   "execution_count": 97,
   "metadata": {
    "execution": {
     "iopub.execute_input": "2022-11-21T23:07:18.370004Z",
     "iopub.status.busy": "2022-11-21T23:07:18.369560Z",
     "iopub.status.idle": "2022-11-21T23:08:19.418294Z",
     "shell.execute_reply": "2022-11-21T23:08:19.417101Z",
     "shell.execute_reply.started": "2022-11-21T23:07:18.369967Z"
    }
   },
   "outputs": [
    {
     "name": "stdout",
     "output_type": "stream",
     "text": [
      "Test accuracy: 79.9000%\n"
     ]
    },
    {
     "data": {
      "text/plain": [
       "0.7881487091675448"
      ]
     },
     "execution_count": 97,
     "metadata": {},
     "output_type": "execute_result"
    }
   ],
   "source": [
    "from sklearn.metrics import accuracy_score, confusion_matrix, precision_score, recall_score, f1_score, roc_curve, auc\n",
    "\n",
    "cancer_predictions =  [model.predict(np.expand_dims(tensor, axis=0))[0][0] for tensor in test_tensors]\n",
    "\n",
    "test_accuracy = 100*np.sum(np.round(cancer_predictions).astype('int32')==test_targets.flatten())/len(cancer_predictions)\n",
    "print('Test accuracy: %.4f%%' % test_accuracy)\n",
    "\n",
    "\n",
    "score = roc_auc_score(np.round(cancer_predictions).astype('int32'), test_targets)\n",
    "print('ROC AUC Score: %.4f%%' % score)"
   ]
  }
 ],
 "metadata": {
  "kernelspec": {
   "display_name": "Python 3 (ipykernel)",
   "language": "python",
   "name": "python3"
  },
  "language_info": {
   "codemirror_mode": {
    "name": "ipython",
    "version": 3
   },
   "file_extension": ".py",
   "mimetype": "text/x-python",
   "name": "python",
   "nbconvert_exporter": "python",
   "pygments_lexer": "ipython3",
   "version": "3.9.13"
  }
 },
 "nbformat": 4,
 "nbformat_minor": 4
}
