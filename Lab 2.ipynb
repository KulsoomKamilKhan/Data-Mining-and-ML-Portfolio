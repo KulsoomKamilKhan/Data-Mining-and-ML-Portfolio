{
 "cells": [
  {
   "cell_type": "markdown",
   "id": "cc9f1619",
   "metadata": {},
   "source": [
    "# Exploratory Data Analysis"
   ]
  },
  {
   "cell_type": "markdown",
   "id": "e8ed0da4",
   "metadata": {},
   "source": [
    "## Setup"
   ]
  },
  {
   "cell_type": "code",
   "execution_count": 34,
   "id": "989b53fe",
   "metadata": {
    "ExecuteTime": {
     "end_time": "2022-10-10T19:36:41.646045Z",
     "start_time": "2022-10-10T19:36:41.611637Z"
    }
   },
   "outputs": [],
   "source": [
    "import matplotlib.pyplot as plt\n",
    "import matplotlib as mpl\n",
    "import urllib.request\n",
    "import pandas as pd\n",
    "import urllib\n",
    "import tarfile\n",
    "import os\n",
    "import numpy as np\n",
    "import sklearn\n",
    "import seaborn as sns # importing seaborn for the heatmap\n",
    "import sys\n",
    "assert sys.version_info >= (3, 5)\n",
    "from sklearn.preprocessing import OrdinalEncoder\n",
    "# Python ≥3.5 is required\n",
    "\n",
    "# Scikit-Learn ≥0.20 is required\n",
    "assert sklearn.__version__ >= \"0.20\"\n",
    "\n",
    "# Common imports\n",
    "\n",
    "# To plot pretty figures\n",
    "%matplotlib inline\n",
    "mpl.rc('axes', labelsize=14)\n",
    "mpl.rc('xtick', labelsize=12)\n",
    "mpl.rc('ytick', labelsize=12)\n",
    "\n",
    "# Reference- https://github.com/ageron/handson-ml2/blob/master/02_end_to_end_machine_learning_project.ipynb\n",
    "\n",
    "# saving the figures; method can be used later\n",
    "PROJECT_ROOT_DIR = \".\"\n",
    "CHAPTER_ID = \"end_to_end_project\"\n",
    "IMAGES_PATH = os.path.join(PROJECT_ROOT_DIR, \"images\", CHAPTER_ID)\n",
    "os.makedirs(IMAGES_PATH, exist_ok=True)\n",
    "\n",
    "\n",
    "def save_fig(fig_id, tight_layout=True, fig_extension=\"png\", resolution=300):\n",
    "    path = os.path.join(IMAGES_PATH, fig_id + \".\" + fig_extension)\n",
    "    print(\"Saving figure\", fig_id)\n",
    "    if tight_layout:\n",
    "        plt.tight_layout()\n",
    "    plt.savefig(path, format=fig_extension, dpi=resolution)"
   ]
  },
  {
   "cell_type": "markdown",
   "id": "76ebe275",
   "metadata": {},
   "source": [
    "## Data Wrangling"
   ]
  },
  {
   "cell_type": "code",
   "execution_count": 2,
   "id": "35417d07",
   "metadata": {
    "ExecuteTime": {
     "end_time": "2022-10-10T19:33:51.066519Z",
     "start_time": "2022-10-10T19:33:50.991527Z"
    }
   },
   "outputs": [
    {
     "name": "stdout",
     "output_type": "stream",
     "text": [
      "(649, 33)\n",
      "rows = 649\n",
      "columns = 33\n"
     ]
    }
   ],
   "source": [
    "data = pd.read_csv(\"student-por.csv\")  # reading the csv file with the data\n",
    "\n",
    "print(data.shape)  # to understand the dimensions of the dataset\n",
    "# to display the number of rows/instances\n",
    "print(\"rows = {}\".format(data.shape[0]))\n",
    "# to display the number of columns/attributes\n",
    "print(\"columns = {}\".format(data.shape[1]))"
   ]
  },
  {
   "cell_type": "code",
   "execution_count": 3,
   "id": "23f0a279",
   "metadata": {
    "ExecuteTime": {
     "end_time": "2022-10-10T19:33:51.199779Z",
     "start_time": "2022-10-10T19:33:51.073521Z"
    }
   },
   "outputs": [
    {
     "data": {
      "text/html": [
       "<div>\n",
       "<style scoped>\n",
       "    .dataframe tbody tr th:only-of-type {\n",
       "        vertical-align: middle;\n",
       "    }\n",
       "\n",
       "    .dataframe tbody tr th {\n",
       "        vertical-align: top;\n",
       "    }\n",
       "\n",
       "    .dataframe thead th {\n",
       "        text-align: right;\n",
       "    }\n",
       "</style>\n",
       "<table border=\"1\" class=\"dataframe\">\n",
       "  <thead>\n",
       "    <tr style=\"text-align: right;\">\n",
       "      <th></th>\n",
       "      <th>school</th>\n",
       "      <th>sex</th>\n",
       "      <th>age</th>\n",
       "      <th>address</th>\n",
       "      <th>famsize</th>\n",
       "      <th>Pstatus</th>\n",
       "      <th>Medu</th>\n",
       "      <th>Fedu</th>\n",
       "      <th>Mjob</th>\n",
       "      <th>Fjob</th>\n",
       "      <th>...</th>\n",
       "      <th>famrel</th>\n",
       "      <th>freetime</th>\n",
       "      <th>goout</th>\n",
       "      <th>Dalc</th>\n",
       "      <th>Walc</th>\n",
       "      <th>health</th>\n",
       "      <th>absences</th>\n",
       "      <th>G1</th>\n",
       "      <th>G2</th>\n",
       "      <th>G3</th>\n",
       "    </tr>\n",
       "  </thead>\n",
       "  <tbody>\n",
       "    <tr>\n",
       "      <th>0</th>\n",
       "      <td>GP</td>\n",
       "      <td>F</td>\n",
       "      <td>18</td>\n",
       "      <td>U</td>\n",
       "      <td>GT3</td>\n",
       "      <td>A</td>\n",
       "      <td>4</td>\n",
       "      <td>4</td>\n",
       "      <td>at_home</td>\n",
       "      <td>teacher</td>\n",
       "      <td>...</td>\n",
       "      <td>4</td>\n",
       "      <td>3</td>\n",
       "      <td>4</td>\n",
       "      <td>1</td>\n",
       "      <td>1</td>\n",
       "      <td>3</td>\n",
       "      <td>4</td>\n",
       "      <td>0</td>\n",
       "      <td>11</td>\n",
       "      <td>11</td>\n",
       "    </tr>\n",
       "    <tr>\n",
       "      <th>1</th>\n",
       "      <td>GP</td>\n",
       "      <td>F</td>\n",
       "      <td>17</td>\n",
       "      <td>U</td>\n",
       "      <td>GT3</td>\n",
       "      <td>T</td>\n",
       "      <td>1</td>\n",
       "      <td>1</td>\n",
       "      <td>at_home</td>\n",
       "      <td>other</td>\n",
       "      <td>...</td>\n",
       "      <td>5</td>\n",
       "      <td>3</td>\n",
       "      <td>3</td>\n",
       "      <td>1</td>\n",
       "      <td>1</td>\n",
       "      <td>3</td>\n",
       "      <td>2</td>\n",
       "      <td>9</td>\n",
       "      <td>11</td>\n",
       "      <td>11</td>\n",
       "    </tr>\n",
       "    <tr>\n",
       "      <th>2</th>\n",
       "      <td>GP</td>\n",
       "      <td>F</td>\n",
       "      <td>15</td>\n",
       "      <td>U</td>\n",
       "      <td>LE3</td>\n",
       "      <td>T</td>\n",
       "      <td>1</td>\n",
       "      <td>1</td>\n",
       "      <td>at_home</td>\n",
       "      <td>other</td>\n",
       "      <td>...</td>\n",
       "      <td>4</td>\n",
       "      <td>3</td>\n",
       "      <td>2</td>\n",
       "      <td>2</td>\n",
       "      <td>3</td>\n",
       "      <td>3</td>\n",
       "      <td>6</td>\n",
       "      <td>12</td>\n",
       "      <td>13</td>\n",
       "      <td>12</td>\n",
       "    </tr>\n",
       "    <tr>\n",
       "      <th>3</th>\n",
       "      <td>GP</td>\n",
       "      <td>F</td>\n",
       "      <td>15</td>\n",
       "      <td>U</td>\n",
       "      <td>GT3</td>\n",
       "      <td>T</td>\n",
       "      <td>4</td>\n",
       "      <td>2</td>\n",
       "      <td>health</td>\n",
       "      <td>services</td>\n",
       "      <td>...</td>\n",
       "      <td>3</td>\n",
       "      <td>2</td>\n",
       "      <td>2</td>\n",
       "      <td>1</td>\n",
       "      <td>1</td>\n",
       "      <td>5</td>\n",
       "      <td>0</td>\n",
       "      <td>14</td>\n",
       "      <td>14</td>\n",
       "      <td>14</td>\n",
       "    </tr>\n",
       "    <tr>\n",
       "      <th>4</th>\n",
       "      <td>GP</td>\n",
       "      <td>F</td>\n",
       "      <td>16</td>\n",
       "      <td>U</td>\n",
       "      <td>GT3</td>\n",
       "      <td>T</td>\n",
       "      <td>3</td>\n",
       "      <td>3</td>\n",
       "      <td>other</td>\n",
       "      <td>other</td>\n",
       "      <td>...</td>\n",
       "      <td>4</td>\n",
       "      <td>3</td>\n",
       "      <td>2</td>\n",
       "      <td>1</td>\n",
       "      <td>2</td>\n",
       "      <td>5</td>\n",
       "      <td>0</td>\n",
       "      <td>11</td>\n",
       "      <td>13</td>\n",
       "      <td>13</td>\n",
       "    </tr>\n",
       "    <tr>\n",
       "      <th>5</th>\n",
       "      <td>GP</td>\n",
       "      <td>M</td>\n",
       "      <td>16</td>\n",
       "      <td>U</td>\n",
       "      <td>LE3</td>\n",
       "      <td>T</td>\n",
       "      <td>4</td>\n",
       "      <td>3</td>\n",
       "      <td>services</td>\n",
       "      <td>other</td>\n",
       "      <td>...</td>\n",
       "      <td>5</td>\n",
       "      <td>4</td>\n",
       "      <td>2</td>\n",
       "      <td>1</td>\n",
       "      <td>2</td>\n",
       "      <td>5</td>\n",
       "      <td>6</td>\n",
       "      <td>12</td>\n",
       "      <td>12</td>\n",
       "      <td>13</td>\n",
       "    </tr>\n",
       "    <tr>\n",
       "      <th>6</th>\n",
       "      <td>GP</td>\n",
       "      <td>M</td>\n",
       "      <td>16</td>\n",
       "      <td>U</td>\n",
       "      <td>LE3</td>\n",
       "      <td>T</td>\n",
       "      <td>2</td>\n",
       "      <td>2</td>\n",
       "      <td>other</td>\n",
       "      <td>other</td>\n",
       "      <td>...</td>\n",
       "      <td>4</td>\n",
       "      <td>4</td>\n",
       "      <td>4</td>\n",
       "      <td>1</td>\n",
       "      <td>1</td>\n",
       "      <td>3</td>\n",
       "      <td>0</td>\n",
       "      <td>13</td>\n",
       "      <td>12</td>\n",
       "      <td>13</td>\n",
       "    </tr>\n",
       "    <tr>\n",
       "      <th>7</th>\n",
       "      <td>GP</td>\n",
       "      <td>F</td>\n",
       "      <td>17</td>\n",
       "      <td>U</td>\n",
       "      <td>GT3</td>\n",
       "      <td>A</td>\n",
       "      <td>4</td>\n",
       "      <td>4</td>\n",
       "      <td>other</td>\n",
       "      <td>teacher</td>\n",
       "      <td>...</td>\n",
       "      <td>4</td>\n",
       "      <td>1</td>\n",
       "      <td>4</td>\n",
       "      <td>1</td>\n",
       "      <td>1</td>\n",
       "      <td>1</td>\n",
       "      <td>2</td>\n",
       "      <td>10</td>\n",
       "      <td>13</td>\n",
       "      <td>13</td>\n",
       "    </tr>\n",
       "    <tr>\n",
       "      <th>8</th>\n",
       "      <td>GP</td>\n",
       "      <td>M</td>\n",
       "      <td>15</td>\n",
       "      <td>U</td>\n",
       "      <td>LE3</td>\n",
       "      <td>A</td>\n",
       "      <td>3</td>\n",
       "      <td>2</td>\n",
       "      <td>services</td>\n",
       "      <td>other</td>\n",
       "      <td>...</td>\n",
       "      <td>4</td>\n",
       "      <td>2</td>\n",
       "      <td>2</td>\n",
       "      <td>1</td>\n",
       "      <td>1</td>\n",
       "      <td>1</td>\n",
       "      <td>0</td>\n",
       "      <td>15</td>\n",
       "      <td>16</td>\n",
       "      <td>17</td>\n",
       "    </tr>\n",
       "    <tr>\n",
       "      <th>9</th>\n",
       "      <td>GP</td>\n",
       "      <td>M</td>\n",
       "      <td>15</td>\n",
       "      <td>U</td>\n",
       "      <td>GT3</td>\n",
       "      <td>T</td>\n",
       "      <td>3</td>\n",
       "      <td>4</td>\n",
       "      <td>other</td>\n",
       "      <td>other</td>\n",
       "      <td>...</td>\n",
       "      <td>5</td>\n",
       "      <td>5</td>\n",
       "      <td>1</td>\n",
       "      <td>1</td>\n",
       "      <td>1</td>\n",
       "      <td>5</td>\n",
       "      <td>0</td>\n",
       "      <td>12</td>\n",
       "      <td>12</td>\n",
       "      <td>13</td>\n",
       "    </tr>\n",
       "  </tbody>\n",
       "</table>\n",
       "<p>10 rows × 33 columns</p>\n",
       "</div>"
      ],
      "text/plain": [
       "  school sex  age address famsize Pstatus  Medu  Fedu      Mjob      Fjob  \\\n",
       "0     GP   F   18       U     GT3       A     4     4   at_home   teacher   \n",
       "1     GP   F   17       U     GT3       T     1     1   at_home     other   \n",
       "2     GP   F   15       U     LE3       T     1     1   at_home     other   \n",
       "3     GP   F   15       U     GT3       T     4     2    health  services   \n",
       "4     GP   F   16       U     GT3       T     3     3     other     other   \n",
       "5     GP   M   16       U     LE3       T     4     3  services     other   \n",
       "6     GP   M   16       U     LE3       T     2     2     other     other   \n",
       "7     GP   F   17       U     GT3       A     4     4     other   teacher   \n",
       "8     GP   M   15       U     LE3       A     3     2  services     other   \n",
       "9     GP   M   15       U     GT3       T     3     4     other     other   \n",
       "\n",
       "   ... famrel freetime  goout  Dalc  Walc health absences  G1  G2  G3  \n",
       "0  ...      4        3      4     1     1      3        4   0  11  11  \n",
       "1  ...      5        3      3     1     1      3        2   9  11  11  \n",
       "2  ...      4        3      2     2     3      3        6  12  13  12  \n",
       "3  ...      3        2      2     1     1      5        0  14  14  14  \n",
       "4  ...      4        3      2     1     2      5        0  11  13  13  \n",
       "5  ...      5        4      2     1     2      5        6  12  12  13  \n",
       "6  ...      4        4      4     1     1      3        0  13  12  13  \n",
       "7  ...      4        1      4     1     1      1        2  10  13  13  \n",
       "8  ...      4        2      2     1     1      1        0  15  16  17  \n",
       "9  ...      5        5      1     1     1      5        0  12  12  13  \n",
       "\n",
       "[10 rows x 33 columns]"
      ]
     },
     "execution_count": 3,
     "metadata": {},
     "output_type": "execute_result"
    }
   ],
   "source": [
    "data.head(10)  # to get a glimpse of the data"
   ]
  },
  {
   "cell_type": "code",
   "execution_count": 4,
   "id": "3203ed14",
   "metadata": {
    "ExecuteTime": {
     "end_time": "2022-10-10T19:33:51.242787Z",
     "start_time": "2022-10-10T19:33:51.205763Z"
    }
   },
   "outputs": [
    {
     "data": {
      "text/html": [
       "<div>\n",
       "<style scoped>\n",
       "    .dataframe tbody tr th:only-of-type {\n",
       "        vertical-align: middle;\n",
       "    }\n",
       "\n",
       "    .dataframe tbody tr th {\n",
       "        vertical-align: top;\n",
       "    }\n",
       "\n",
       "    .dataframe thead th {\n",
       "        text-align: right;\n",
       "    }\n",
       "</style>\n",
       "<table border=\"1\" class=\"dataframe\">\n",
       "  <thead>\n",
       "    <tr style=\"text-align: right;\">\n",
       "      <th></th>\n",
       "      <th>school</th>\n",
       "      <th>sex</th>\n",
       "      <th>age</th>\n",
       "      <th>address</th>\n",
       "      <th>famsize</th>\n",
       "      <th>Pstatus</th>\n",
       "      <th>Medu</th>\n",
       "      <th>Fedu</th>\n",
       "      <th>Mjob</th>\n",
       "      <th>Fjob</th>\n",
       "      <th>...</th>\n",
       "      <th>famrel</th>\n",
       "      <th>freetime</th>\n",
       "      <th>goout</th>\n",
       "      <th>Dalc</th>\n",
       "      <th>Walc</th>\n",
       "      <th>health</th>\n",
       "      <th>absences</th>\n",
       "      <th>G1</th>\n",
       "      <th>G2</th>\n",
       "      <th>G3</th>\n",
       "    </tr>\n",
       "  </thead>\n",
       "  <tbody>\n",
       "    <tr>\n",
       "      <th>639</th>\n",
       "      <td>MS</td>\n",
       "      <td>M</td>\n",
       "      <td>19</td>\n",
       "      <td>R</td>\n",
       "      <td>GT3</td>\n",
       "      <td>T</td>\n",
       "      <td>1</td>\n",
       "      <td>1</td>\n",
       "      <td>other</td>\n",
       "      <td>services</td>\n",
       "      <td>...</td>\n",
       "      <td>4</td>\n",
       "      <td>3</td>\n",
       "      <td>2</td>\n",
       "      <td>1</td>\n",
       "      <td>3</td>\n",
       "      <td>5</td>\n",
       "      <td>0</td>\n",
       "      <td>5</td>\n",
       "      <td>8</td>\n",
       "      <td>0</td>\n",
       "    </tr>\n",
       "    <tr>\n",
       "      <th>640</th>\n",
       "      <td>MS</td>\n",
       "      <td>M</td>\n",
       "      <td>18</td>\n",
       "      <td>R</td>\n",
       "      <td>GT3</td>\n",
       "      <td>T</td>\n",
       "      <td>4</td>\n",
       "      <td>2</td>\n",
       "      <td>other</td>\n",
       "      <td>other</td>\n",
       "      <td>...</td>\n",
       "      <td>5</td>\n",
       "      <td>4</td>\n",
       "      <td>3</td>\n",
       "      <td>4</td>\n",
       "      <td>3</td>\n",
       "      <td>3</td>\n",
       "      <td>0</td>\n",
       "      <td>7</td>\n",
       "      <td>7</td>\n",
       "      <td>0</td>\n",
       "    </tr>\n",
       "    <tr>\n",
       "      <th>641</th>\n",
       "      <td>MS</td>\n",
       "      <td>F</td>\n",
       "      <td>18</td>\n",
       "      <td>R</td>\n",
       "      <td>GT3</td>\n",
       "      <td>T</td>\n",
       "      <td>2</td>\n",
       "      <td>2</td>\n",
       "      <td>at_home</td>\n",
       "      <td>other</td>\n",
       "      <td>...</td>\n",
       "      <td>5</td>\n",
       "      <td>3</td>\n",
       "      <td>3</td>\n",
       "      <td>1</td>\n",
       "      <td>3</td>\n",
       "      <td>4</td>\n",
       "      <td>0</td>\n",
       "      <td>14</td>\n",
       "      <td>17</td>\n",
       "      <td>15</td>\n",
       "    </tr>\n",
       "    <tr>\n",
       "      <th>642</th>\n",
       "      <td>MS</td>\n",
       "      <td>F</td>\n",
       "      <td>17</td>\n",
       "      <td>U</td>\n",
       "      <td>GT3</td>\n",
       "      <td>T</td>\n",
       "      <td>4</td>\n",
       "      <td>3</td>\n",
       "      <td>teacher</td>\n",
       "      <td>other</td>\n",
       "      <td>...</td>\n",
       "      <td>5</td>\n",
       "      <td>5</td>\n",
       "      <td>4</td>\n",
       "      <td>1</td>\n",
       "      <td>1</td>\n",
       "      <td>1</td>\n",
       "      <td>0</td>\n",
       "      <td>6</td>\n",
       "      <td>9</td>\n",
       "      <td>11</td>\n",
       "    </tr>\n",
       "    <tr>\n",
       "      <th>643</th>\n",
       "      <td>MS</td>\n",
       "      <td>F</td>\n",
       "      <td>18</td>\n",
       "      <td>R</td>\n",
       "      <td>GT3</td>\n",
       "      <td>T</td>\n",
       "      <td>4</td>\n",
       "      <td>4</td>\n",
       "      <td>teacher</td>\n",
       "      <td>at_home</td>\n",
       "      <td>...</td>\n",
       "      <td>4</td>\n",
       "      <td>4</td>\n",
       "      <td>3</td>\n",
       "      <td>2</td>\n",
       "      <td>2</td>\n",
       "      <td>5</td>\n",
       "      <td>4</td>\n",
       "      <td>7</td>\n",
       "      <td>9</td>\n",
       "      <td>10</td>\n",
       "    </tr>\n",
       "    <tr>\n",
       "      <th>644</th>\n",
       "      <td>MS</td>\n",
       "      <td>F</td>\n",
       "      <td>19</td>\n",
       "      <td>R</td>\n",
       "      <td>GT3</td>\n",
       "      <td>T</td>\n",
       "      <td>2</td>\n",
       "      <td>3</td>\n",
       "      <td>services</td>\n",
       "      <td>other</td>\n",
       "      <td>...</td>\n",
       "      <td>5</td>\n",
       "      <td>4</td>\n",
       "      <td>2</td>\n",
       "      <td>1</td>\n",
       "      <td>2</td>\n",
       "      <td>5</td>\n",
       "      <td>4</td>\n",
       "      <td>10</td>\n",
       "      <td>11</td>\n",
       "      <td>10</td>\n",
       "    </tr>\n",
       "    <tr>\n",
       "      <th>645</th>\n",
       "      <td>MS</td>\n",
       "      <td>F</td>\n",
       "      <td>18</td>\n",
       "      <td>U</td>\n",
       "      <td>LE3</td>\n",
       "      <td>T</td>\n",
       "      <td>3</td>\n",
       "      <td>1</td>\n",
       "      <td>teacher</td>\n",
       "      <td>services</td>\n",
       "      <td>...</td>\n",
       "      <td>4</td>\n",
       "      <td>3</td>\n",
       "      <td>4</td>\n",
       "      <td>1</td>\n",
       "      <td>1</td>\n",
       "      <td>1</td>\n",
       "      <td>4</td>\n",
       "      <td>15</td>\n",
       "      <td>15</td>\n",
       "      <td>16</td>\n",
       "    </tr>\n",
       "    <tr>\n",
       "      <th>646</th>\n",
       "      <td>MS</td>\n",
       "      <td>F</td>\n",
       "      <td>18</td>\n",
       "      <td>U</td>\n",
       "      <td>GT3</td>\n",
       "      <td>T</td>\n",
       "      <td>1</td>\n",
       "      <td>1</td>\n",
       "      <td>other</td>\n",
       "      <td>other</td>\n",
       "      <td>...</td>\n",
       "      <td>1</td>\n",
       "      <td>1</td>\n",
       "      <td>1</td>\n",
       "      <td>1</td>\n",
       "      <td>1</td>\n",
       "      <td>5</td>\n",
       "      <td>6</td>\n",
       "      <td>11</td>\n",
       "      <td>12</td>\n",
       "      <td>9</td>\n",
       "    </tr>\n",
       "    <tr>\n",
       "      <th>647</th>\n",
       "      <td>MS</td>\n",
       "      <td>M</td>\n",
       "      <td>17</td>\n",
       "      <td>U</td>\n",
       "      <td>LE3</td>\n",
       "      <td>T</td>\n",
       "      <td>3</td>\n",
       "      <td>1</td>\n",
       "      <td>services</td>\n",
       "      <td>services</td>\n",
       "      <td>...</td>\n",
       "      <td>2</td>\n",
       "      <td>4</td>\n",
       "      <td>5</td>\n",
       "      <td>3</td>\n",
       "      <td>4</td>\n",
       "      <td>2</td>\n",
       "      <td>6</td>\n",
       "      <td>10</td>\n",
       "      <td>10</td>\n",
       "      <td>10</td>\n",
       "    </tr>\n",
       "    <tr>\n",
       "      <th>648</th>\n",
       "      <td>MS</td>\n",
       "      <td>M</td>\n",
       "      <td>18</td>\n",
       "      <td>R</td>\n",
       "      <td>LE3</td>\n",
       "      <td>T</td>\n",
       "      <td>3</td>\n",
       "      <td>2</td>\n",
       "      <td>services</td>\n",
       "      <td>other</td>\n",
       "      <td>...</td>\n",
       "      <td>4</td>\n",
       "      <td>4</td>\n",
       "      <td>1</td>\n",
       "      <td>3</td>\n",
       "      <td>4</td>\n",
       "      <td>5</td>\n",
       "      <td>4</td>\n",
       "      <td>10</td>\n",
       "      <td>11</td>\n",
       "      <td>11</td>\n",
       "    </tr>\n",
       "  </tbody>\n",
       "</table>\n",
       "<p>10 rows × 33 columns</p>\n",
       "</div>"
      ],
      "text/plain": [
       "    school sex  age address famsize Pstatus  Medu  Fedu      Mjob      Fjob  \\\n",
       "639     MS   M   19       R     GT3       T     1     1     other  services   \n",
       "640     MS   M   18       R     GT3       T     4     2     other     other   \n",
       "641     MS   F   18       R     GT3       T     2     2   at_home     other   \n",
       "642     MS   F   17       U     GT3       T     4     3   teacher     other   \n",
       "643     MS   F   18       R     GT3       T     4     4   teacher   at_home   \n",
       "644     MS   F   19       R     GT3       T     2     3  services     other   \n",
       "645     MS   F   18       U     LE3       T     3     1   teacher  services   \n",
       "646     MS   F   18       U     GT3       T     1     1     other     other   \n",
       "647     MS   M   17       U     LE3       T     3     1  services  services   \n",
       "648     MS   M   18       R     LE3       T     3     2  services     other   \n",
       "\n",
       "     ... famrel freetime  goout  Dalc  Walc health absences  G1  G2  G3  \n",
       "639  ...      4        3      2     1     3      5        0   5   8   0  \n",
       "640  ...      5        4      3     4     3      3        0   7   7   0  \n",
       "641  ...      5        3      3     1     3      4        0  14  17  15  \n",
       "642  ...      5        5      4     1     1      1        0   6   9  11  \n",
       "643  ...      4        4      3     2     2      5        4   7   9  10  \n",
       "644  ...      5        4      2     1     2      5        4  10  11  10  \n",
       "645  ...      4        3      4     1     1      1        4  15  15  16  \n",
       "646  ...      1        1      1     1     1      5        6  11  12   9  \n",
       "647  ...      2        4      5     3     4      2        6  10  10  10  \n",
       "648  ...      4        4      1     3     4      5        4  10  11  11  \n",
       "\n",
       "[10 rows x 33 columns]"
      ]
     },
     "execution_count": 4,
     "metadata": {},
     "output_type": "execute_result"
    }
   ],
   "source": [
    "data.tail(10)  # to get a glimpse of the data"
   ]
  },
  {
   "cell_type": "code",
   "execution_count": 5,
   "id": "30c9937b",
   "metadata": {
    "ExecuteTime": {
     "end_time": "2022-10-10T19:33:51.284481Z",
     "start_time": "2022-10-10T19:33:51.246145Z"
    }
   },
   "outputs": [
    {
     "data": {
      "text/html": [
       "<div>\n",
       "<style scoped>\n",
       "    .dataframe tbody tr th:only-of-type {\n",
       "        vertical-align: middle;\n",
       "    }\n",
       "\n",
       "    .dataframe tbody tr th {\n",
       "        vertical-align: top;\n",
       "    }\n",
       "\n",
       "    .dataframe thead th {\n",
       "        text-align: right;\n",
       "    }\n",
       "</style>\n",
       "<table border=\"1\" class=\"dataframe\">\n",
       "  <thead>\n",
       "    <tr style=\"text-align: right;\">\n",
       "      <th></th>\n",
       "      <th>school</th>\n",
       "      <th>sex</th>\n",
       "      <th>age</th>\n",
       "      <th>address</th>\n",
       "      <th>famsize</th>\n",
       "      <th>Pstatus</th>\n",
       "      <th>Medu</th>\n",
       "      <th>Fedu</th>\n",
       "      <th>Mjob</th>\n",
       "      <th>Fjob</th>\n",
       "      <th>...</th>\n",
       "      <th>famrel</th>\n",
       "      <th>freetime</th>\n",
       "      <th>goout</th>\n",
       "      <th>Dalc</th>\n",
       "      <th>Walc</th>\n",
       "      <th>health</th>\n",
       "      <th>absences</th>\n",
       "      <th>G1</th>\n",
       "      <th>G2</th>\n",
       "      <th>G3</th>\n",
       "    </tr>\n",
       "  </thead>\n",
       "  <tbody>\n",
       "    <tr>\n",
       "      <th>148</th>\n",
       "      <td>GP</td>\n",
       "      <td>F</td>\n",
       "      <td>15</td>\n",
       "      <td>R</td>\n",
       "      <td>GT3</td>\n",
       "      <td>T</td>\n",
       "      <td>1</td>\n",
       "      <td>1</td>\n",
       "      <td>other</td>\n",
       "      <td>other</td>\n",
       "      <td>...</td>\n",
       "      <td>5</td>\n",
       "      <td>5</td>\n",
       "      <td>5</td>\n",
       "      <td>1</td>\n",
       "      <td>1</td>\n",
       "      <td>1</td>\n",
       "      <td>2</td>\n",
       "      <td>8</td>\n",
       "      <td>9</td>\n",
       "      <td>9</td>\n",
       "    </tr>\n",
       "  </tbody>\n",
       "</table>\n",
       "<p>1 rows × 33 columns</p>\n",
       "</div>"
      ],
      "text/plain": [
       "    school sex  age address famsize Pstatus  Medu  Fedu   Mjob   Fjob  ...  \\\n",
       "148     GP   F   15       R     GT3       T     1     1  other  other  ...   \n",
       "\n",
       "    famrel freetime  goout  Dalc  Walc health absences G1 G2 G3  \n",
       "148      5        5      5     1     1      1        2  8  9  9  \n",
       "\n",
       "[1 rows x 33 columns]"
      ]
     },
     "execution_count": 5,
     "metadata": {},
     "output_type": "execute_result"
    }
   ],
   "source": [
    "data.sample()  # returns a sample random row from the data frame"
   ]
  },
  {
   "cell_type": "code",
   "execution_count": 6,
   "id": "98b32233",
   "metadata": {
    "ExecuteTime": {
     "end_time": "2022-10-10T19:33:51.357920Z",
     "start_time": "2022-10-10T19:33:51.287026Z"
    }
   },
   "outputs": [
    {
     "name": "stdout",
     "output_type": "stream",
     "text": [
      "<class 'pandas.core.frame.DataFrame'>\n",
      "RangeIndex: 649 entries, 0 to 648\n",
      "Data columns (total 33 columns):\n",
      " #   Column      Non-Null Count  Dtype \n",
      "---  ------      --------------  ----- \n",
      " 0   school      649 non-null    object\n",
      " 1   sex         649 non-null    object\n",
      " 2   age         649 non-null    int64 \n",
      " 3   address     649 non-null    object\n",
      " 4   famsize     649 non-null    object\n",
      " 5   Pstatus     649 non-null    object\n",
      " 6   Medu        649 non-null    int64 \n",
      " 7   Fedu        649 non-null    int64 \n",
      " 8   Mjob        649 non-null    object\n",
      " 9   Fjob        649 non-null    object\n",
      " 10  reason      649 non-null    object\n",
      " 11  guardian    649 non-null    object\n",
      " 12  traveltime  649 non-null    int64 \n",
      " 13  studytime   649 non-null    int64 \n",
      " 14  failures    649 non-null    int64 \n",
      " 15  schoolsup   649 non-null    object\n",
      " 16  famsup      649 non-null    object\n",
      " 17  paid        649 non-null    object\n",
      " 18  activities  649 non-null    object\n",
      " 19  nursery     649 non-null    object\n",
      " 20  higher      649 non-null    object\n",
      " 21  internet    649 non-null    object\n",
      " 22  romantic    649 non-null    object\n",
      " 23  famrel      649 non-null    int64 \n",
      " 24  freetime    649 non-null    int64 \n",
      " 25  goout       649 non-null    int64 \n",
      " 26  Dalc        649 non-null    int64 \n",
      " 27  Walc        649 non-null    int64 \n",
      " 28  health      649 non-null    int64 \n",
      " 29  absences    649 non-null    int64 \n",
      " 30  G1          649 non-null    int64 \n",
      " 31  G2          649 non-null    int64 \n",
      " 32  G3          649 non-null    int64 \n",
      "dtypes: int64(16), object(17)\n",
      "memory usage: 167.4+ KB\n"
     ]
    }
   ],
   "source": [
    "data.info()  # to understand the attributes and their types"
   ]
  },
  {
   "cell_type": "code",
   "execution_count": 7,
   "id": "1078e488",
   "metadata": {
    "ExecuteTime": {
     "end_time": "2022-10-10T19:33:51.473101Z",
     "start_time": "2022-10-10T19:33:51.361863Z"
    }
   },
   "outputs": [
    {
     "data": {
      "text/html": [
       "<div>\n",
       "<style scoped>\n",
       "    .dataframe tbody tr th:only-of-type {\n",
       "        vertical-align: middle;\n",
       "    }\n",
       "\n",
       "    .dataframe tbody tr th {\n",
       "        vertical-align: top;\n",
       "    }\n",
       "\n",
       "    .dataframe thead th {\n",
       "        text-align: right;\n",
       "    }\n",
       "</style>\n",
       "<table border=\"1\" class=\"dataframe\">\n",
       "  <thead>\n",
       "    <tr style=\"text-align: right;\">\n",
       "      <th></th>\n",
       "      <th>age</th>\n",
       "      <th>Medu</th>\n",
       "      <th>Fedu</th>\n",
       "      <th>traveltime</th>\n",
       "      <th>studytime</th>\n",
       "      <th>failures</th>\n",
       "      <th>famrel</th>\n",
       "      <th>freetime</th>\n",
       "      <th>goout</th>\n",
       "      <th>Dalc</th>\n",
       "      <th>Walc</th>\n",
       "      <th>health</th>\n",
       "      <th>absences</th>\n",
       "      <th>G1</th>\n",
       "      <th>G2</th>\n",
       "      <th>G3</th>\n",
       "    </tr>\n",
       "  </thead>\n",
       "  <tbody>\n",
       "    <tr>\n",
       "      <th>count</th>\n",
       "      <td>649.000000</td>\n",
       "      <td>649.000000</td>\n",
       "      <td>649.000000</td>\n",
       "      <td>649.000000</td>\n",
       "      <td>649.000000</td>\n",
       "      <td>649.000000</td>\n",
       "      <td>649.000000</td>\n",
       "      <td>649.000000</td>\n",
       "      <td>649.000000</td>\n",
       "      <td>649.000000</td>\n",
       "      <td>649.000000</td>\n",
       "      <td>649.000000</td>\n",
       "      <td>649.000000</td>\n",
       "      <td>649.000000</td>\n",
       "      <td>649.000000</td>\n",
       "      <td>649.000000</td>\n",
       "    </tr>\n",
       "    <tr>\n",
       "      <th>mean</th>\n",
       "      <td>16.744222</td>\n",
       "      <td>2.514638</td>\n",
       "      <td>2.306626</td>\n",
       "      <td>1.568567</td>\n",
       "      <td>1.930663</td>\n",
       "      <td>0.221880</td>\n",
       "      <td>3.930663</td>\n",
       "      <td>3.180277</td>\n",
       "      <td>3.184900</td>\n",
       "      <td>1.502311</td>\n",
       "      <td>2.280431</td>\n",
       "      <td>3.536210</td>\n",
       "      <td>3.659476</td>\n",
       "      <td>11.399076</td>\n",
       "      <td>11.570108</td>\n",
       "      <td>11.906009</td>\n",
       "    </tr>\n",
       "    <tr>\n",
       "      <th>std</th>\n",
       "      <td>1.218138</td>\n",
       "      <td>1.134552</td>\n",
       "      <td>1.099931</td>\n",
       "      <td>0.748660</td>\n",
       "      <td>0.829510</td>\n",
       "      <td>0.593235</td>\n",
       "      <td>0.955717</td>\n",
       "      <td>1.051093</td>\n",
       "      <td>1.175766</td>\n",
       "      <td>0.924834</td>\n",
       "      <td>1.284380</td>\n",
       "      <td>1.446259</td>\n",
       "      <td>4.640759</td>\n",
       "      <td>2.745265</td>\n",
       "      <td>2.913639</td>\n",
       "      <td>3.230656</td>\n",
       "    </tr>\n",
       "    <tr>\n",
       "      <th>min</th>\n",
       "      <td>15.000000</td>\n",
       "      <td>0.000000</td>\n",
       "      <td>0.000000</td>\n",
       "      <td>1.000000</td>\n",
       "      <td>1.000000</td>\n",
       "      <td>0.000000</td>\n",
       "      <td>1.000000</td>\n",
       "      <td>1.000000</td>\n",
       "      <td>1.000000</td>\n",
       "      <td>1.000000</td>\n",
       "      <td>1.000000</td>\n",
       "      <td>1.000000</td>\n",
       "      <td>0.000000</td>\n",
       "      <td>0.000000</td>\n",
       "      <td>0.000000</td>\n",
       "      <td>0.000000</td>\n",
       "    </tr>\n",
       "    <tr>\n",
       "      <th>25%</th>\n",
       "      <td>16.000000</td>\n",
       "      <td>2.000000</td>\n",
       "      <td>1.000000</td>\n",
       "      <td>1.000000</td>\n",
       "      <td>1.000000</td>\n",
       "      <td>0.000000</td>\n",
       "      <td>4.000000</td>\n",
       "      <td>3.000000</td>\n",
       "      <td>2.000000</td>\n",
       "      <td>1.000000</td>\n",
       "      <td>1.000000</td>\n",
       "      <td>2.000000</td>\n",
       "      <td>0.000000</td>\n",
       "      <td>10.000000</td>\n",
       "      <td>10.000000</td>\n",
       "      <td>10.000000</td>\n",
       "    </tr>\n",
       "    <tr>\n",
       "      <th>50%</th>\n",
       "      <td>17.000000</td>\n",
       "      <td>2.000000</td>\n",
       "      <td>2.000000</td>\n",
       "      <td>1.000000</td>\n",
       "      <td>2.000000</td>\n",
       "      <td>0.000000</td>\n",
       "      <td>4.000000</td>\n",
       "      <td>3.000000</td>\n",
       "      <td>3.000000</td>\n",
       "      <td>1.000000</td>\n",
       "      <td>2.000000</td>\n",
       "      <td>4.000000</td>\n",
       "      <td>2.000000</td>\n",
       "      <td>11.000000</td>\n",
       "      <td>11.000000</td>\n",
       "      <td>12.000000</td>\n",
       "    </tr>\n",
       "    <tr>\n",
       "      <th>75%</th>\n",
       "      <td>18.000000</td>\n",
       "      <td>4.000000</td>\n",
       "      <td>3.000000</td>\n",
       "      <td>2.000000</td>\n",
       "      <td>2.000000</td>\n",
       "      <td>0.000000</td>\n",
       "      <td>5.000000</td>\n",
       "      <td>4.000000</td>\n",
       "      <td>4.000000</td>\n",
       "      <td>2.000000</td>\n",
       "      <td>3.000000</td>\n",
       "      <td>5.000000</td>\n",
       "      <td>6.000000</td>\n",
       "      <td>13.000000</td>\n",
       "      <td>13.000000</td>\n",
       "      <td>14.000000</td>\n",
       "    </tr>\n",
       "    <tr>\n",
       "      <th>max</th>\n",
       "      <td>22.000000</td>\n",
       "      <td>4.000000</td>\n",
       "      <td>4.000000</td>\n",
       "      <td>4.000000</td>\n",
       "      <td>4.000000</td>\n",
       "      <td>3.000000</td>\n",
       "      <td>5.000000</td>\n",
       "      <td>5.000000</td>\n",
       "      <td>5.000000</td>\n",
       "      <td>5.000000</td>\n",
       "      <td>5.000000</td>\n",
       "      <td>5.000000</td>\n",
       "      <td>32.000000</td>\n",
       "      <td>19.000000</td>\n",
       "      <td>19.000000</td>\n",
       "      <td>19.000000</td>\n",
       "    </tr>\n",
       "  </tbody>\n",
       "</table>\n",
       "</div>"
      ],
      "text/plain": [
       "              age        Medu        Fedu  traveltime   studytime    failures  \\\n",
       "count  649.000000  649.000000  649.000000  649.000000  649.000000  649.000000   \n",
       "mean    16.744222    2.514638    2.306626    1.568567    1.930663    0.221880   \n",
       "std      1.218138    1.134552    1.099931    0.748660    0.829510    0.593235   \n",
       "min     15.000000    0.000000    0.000000    1.000000    1.000000    0.000000   \n",
       "25%     16.000000    2.000000    1.000000    1.000000    1.000000    0.000000   \n",
       "50%     17.000000    2.000000    2.000000    1.000000    2.000000    0.000000   \n",
       "75%     18.000000    4.000000    3.000000    2.000000    2.000000    0.000000   \n",
       "max     22.000000    4.000000    4.000000    4.000000    4.000000    3.000000   \n",
       "\n",
       "           famrel    freetime       goout        Dalc        Walc      health  \\\n",
       "count  649.000000  649.000000  649.000000  649.000000  649.000000  649.000000   \n",
       "mean     3.930663    3.180277    3.184900    1.502311    2.280431    3.536210   \n",
       "std      0.955717    1.051093    1.175766    0.924834    1.284380    1.446259   \n",
       "min      1.000000    1.000000    1.000000    1.000000    1.000000    1.000000   \n",
       "25%      4.000000    3.000000    2.000000    1.000000    1.000000    2.000000   \n",
       "50%      4.000000    3.000000    3.000000    1.000000    2.000000    4.000000   \n",
       "75%      5.000000    4.000000    4.000000    2.000000    3.000000    5.000000   \n",
       "max      5.000000    5.000000    5.000000    5.000000    5.000000    5.000000   \n",
       "\n",
       "         absences          G1          G2          G3  \n",
       "count  649.000000  649.000000  649.000000  649.000000  \n",
       "mean     3.659476   11.399076   11.570108   11.906009  \n",
       "std      4.640759    2.745265    2.913639    3.230656  \n",
       "min      0.000000    0.000000    0.000000    0.000000  \n",
       "25%      0.000000   10.000000   10.000000   10.000000  \n",
       "50%      2.000000   11.000000   11.000000   12.000000  \n",
       "75%      6.000000   13.000000   13.000000   14.000000  \n",
       "max     32.000000   19.000000   19.000000   19.000000  "
      ]
     },
     "execution_count": 7,
     "metadata": {},
     "output_type": "execute_result"
    }
   ],
   "source": [
    "data.describe(\n",
    ")  # to view a summary of the descriptive statistics of the numerical attributes in the dataset"
   ]
  },
  {
   "cell_type": "markdown",
   "id": "cdd5c50a",
   "metadata": {
    "ExecuteTime": {
     "end_time": "2022-09-26T20:42:14.763096Z",
     "start_time": "2022-09-26T20:42:14.745552Z"
    }
   },
   "source": [
    "## Cleaning Data"
   ]
  },
  {
   "cell_type": "code",
   "execution_count": 8,
   "id": "3ce26951",
   "metadata": {
    "ExecuteTime": {
     "end_time": "2022-10-10T19:33:51.500113Z",
     "start_time": "2022-10-10T19:33:51.476090Z"
    }
   },
   "outputs": [
    {
     "data": {
      "text/plain": [
       "0"
      ]
     },
     "execution_count": 8,
     "metadata": {},
     "output_type": "execute_result"
    }
   ],
   "source": [
    "data.isnull().sum().sum()  # to check for any null values in the dataset"
   ]
  },
  {
   "cell_type": "code",
   "execution_count": 9,
   "id": "215245dd",
   "metadata": {
    "ExecuteTime": {
     "end_time": "2022-10-10T19:33:51.532068Z",
     "start_time": "2022-10-10T19:33:51.500113Z"
    }
   },
   "outputs": [
    {
     "data": {
      "text/plain": [
       "count       649\n",
       "unique        1\n",
       "top       False\n",
       "freq        649\n",
       "dtype: object"
      ]
     },
     "execution_count": 9,
     "metadata": {},
     "output_type": "execute_result"
    }
   ],
   "source": [
    "data.duplicated().describe(\n",
    ")  # one unique value of false means no duplicate value"
   ]
  },
  {
   "cell_type": "code",
   "execution_count": 10,
   "id": "ee71dd35",
   "metadata": {
    "ExecuteTime": {
     "end_time": "2022-10-10T19:33:51.594682Z",
     "start_time": "2022-10-10T19:33:51.540009Z"
    }
   },
   "outputs": [
    {
     "data": {
      "text/html": [
       "<div>\n",
       "<style scoped>\n",
       "    .dataframe tbody tr th:only-of-type {\n",
       "        vertical-align: middle;\n",
       "    }\n",
       "\n",
       "    .dataframe tbody tr th {\n",
       "        vertical-align: top;\n",
       "    }\n",
       "\n",
       "    .dataframe thead th {\n",
       "        text-align: right;\n",
       "    }\n",
       "</style>\n",
       "<table border=\"1\" class=\"dataframe\">\n",
       "  <thead>\n",
       "    <tr style=\"text-align: right;\">\n",
       "      <th></th>\n",
       "      <th>school</th>\n",
       "      <th>sex</th>\n",
       "      <th>age</th>\n",
       "      <th>address</th>\n",
       "      <th>famsize</th>\n",
       "      <th>Pstatus</th>\n",
       "      <th>Medu</th>\n",
       "      <th>Fedu</th>\n",
       "      <th>Mjob</th>\n",
       "      <th>Fjob</th>\n",
       "      <th>...</th>\n",
       "      <th>famrel</th>\n",
       "      <th>freetime</th>\n",
       "      <th>goout</th>\n",
       "      <th>Dalc</th>\n",
       "      <th>Walc</th>\n",
       "      <th>health</th>\n",
       "      <th>absences</th>\n",
       "      <th>G1</th>\n",
       "      <th>G2</th>\n",
       "      <th>G3</th>\n",
       "    </tr>\n",
       "  </thead>\n",
       "  <tbody>\n",
       "    <tr>\n",
       "      <th>0</th>\n",
       "      <td>GP</td>\n",
       "      <td>F</td>\n",
       "      <td>18</td>\n",
       "      <td>U</td>\n",
       "      <td>GT3</td>\n",
       "      <td>A</td>\n",
       "      <td>4</td>\n",
       "      <td>4</td>\n",
       "      <td>at_home</td>\n",
       "      <td>teacher</td>\n",
       "      <td>...</td>\n",
       "      <td>4</td>\n",
       "      <td>3</td>\n",
       "      <td>4</td>\n",
       "      <td>1</td>\n",
       "      <td>1</td>\n",
       "      <td>3</td>\n",
       "      <td>4</td>\n",
       "      <td>0</td>\n",
       "      <td>11</td>\n",
       "      <td>11</td>\n",
       "    </tr>\n",
       "    <tr>\n",
       "      <th>1</th>\n",
       "      <td>GP</td>\n",
       "      <td>F</td>\n",
       "      <td>17</td>\n",
       "      <td>U</td>\n",
       "      <td>GT3</td>\n",
       "      <td>T</td>\n",
       "      <td>1</td>\n",
       "      <td>1</td>\n",
       "      <td>at_home</td>\n",
       "      <td>other</td>\n",
       "      <td>...</td>\n",
       "      <td>5</td>\n",
       "      <td>3</td>\n",
       "      <td>3</td>\n",
       "      <td>1</td>\n",
       "      <td>1</td>\n",
       "      <td>3</td>\n",
       "      <td>2</td>\n",
       "      <td>9</td>\n",
       "      <td>11</td>\n",
       "      <td>11</td>\n",
       "    </tr>\n",
       "    <tr>\n",
       "      <th>2</th>\n",
       "      <td>GP</td>\n",
       "      <td>F</td>\n",
       "      <td>15</td>\n",
       "      <td>U</td>\n",
       "      <td>LE3</td>\n",
       "      <td>T</td>\n",
       "      <td>1</td>\n",
       "      <td>1</td>\n",
       "      <td>at_home</td>\n",
       "      <td>other</td>\n",
       "      <td>...</td>\n",
       "      <td>4</td>\n",
       "      <td>3</td>\n",
       "      <td>2</td>\n",
       "      <td>2</td>\n",
       "      <td>3</td>\n",
       "      <td>3</td>\n",
       "      <td>6</td>\n",
       "      <td>12</td>\n",
       "      <td>13</td>\n",
       "      <td>12</td>\n",
       "    </tr>\n",
       "    <tr>\n",
       "      <th>3</th>\n",
       "      <td>GP</td>\n",
       "      <td>F</td>\n",
       "      <td>15</td>\n",
       "      <td>U</td>\n",
       "      <td>GT3</td>\n",
       "      <td>T</td>\n",
       "      <td>4</td>\n",
       "      <td>2</td>\n",
       "      <td>health</td>\n",
       "      <td>services</td>\n",
       "      <td>...</td>\n",
       "      <td>3</td>\n",
       "      <td>2</td>\n",
       "      <td>2</td>\n",
       "      <td>1</td>\n",
       "      <td>1</td>\n",
       "      <td>5</td>\n",
       "      <td>0</td>\n",
       "      <td>14</td>\n",
       "      <td>14</td>\n",
       "      <td>14</td>\n",
       "    </tr>\n",
       "    <tr>\n",
       "      <th>4</th>\n",
       "      <td>GP</td>\n",
       "      <td>F</td>\n",
       "      <td>16</td>\n",
       "      <td>U</td>\n",
       "      <td>GT3</td>\n",
       "      <td>T</td>\n",
       "      <td>3</td>\n",
       "      <td>3</td>\n",
       "      <td>other</td>\n",
       "      <td>other</td>\n",
       "      <td>...</td>\n",
       "      <td>4</td>\n",
       "      <td>3</td>\n",
       "      <td>2</td>\n",
       "      <td>1</td>\n",
       "      <td>2</td>\n",
       "      <td>5</td>\n",
       "      <td>0</td>\n",
       "      <td>11</td>\n",
       "      <td>13</td>\n",
       "      <td>13</td>\n",
       "    </tr>\n",
       "    <tr>\n",
       "      <th>...</th>\n",
       "      <td>...</td>\n",
       "      <td>...</td>\n",
       "      <td>...</td>\n",
       "      <td>...</td>\n",
       "      <td>...</td>\n",
       "      <td>...</td>\n",
       "      <td>...</td>\n",
       "      <td>...</td>\n",
       "      <td>...</td>\n",
       "      <td>...</td>\n",
       "      <td>...</td>\n",
       "      <td>...</td>\n",
       "      <td>...</td>\n",
       "      <td>...</td>\n",
       "      <td>...</td>\n",
       "      <td>...</td>\n",
       "      <td>...</td>\n",
       "      <td>...</td>\n",
       "      <td>...</td>\n",
       "      <td>...</td>\n",
       "      <td>...</td>\n",
       "    </tr>\n",
       "    <tr>\n",
       "      <th>644</th>\n",
       "      <td>MS</td>\n",
       "      <td>F</td>\n",
       "      <td>19</td>\n",
       "      <td>R</td>\n",
       "      <td>GT3</td>\n",
       "      <td>T</td>\n",
       "      <td>2</td>\n",
       "      <td>3</td>\n",
       "      <td>services</td>\n",
       "      <td>other</td>\n",
       "      <td>...</td>\n",
       "      <td>5</td>\n",
       "      <td>4</td>\n",
       "      <td>2</td>\n",
       "      <td>1</td>\n",
       "      <td>2</td>\n",
       "      <td>5</td>\n",
       "      <td>4</td>\n",
       "      <td>10</td>\n",
       "      <td>11</td>\n",
       "      <td>10</td>\n",
       "    </tr>\n",
       "    <tr>\n",
       "      <th>645</th>\n",
       "      <td>MS</td>\n",
       "      <td>F</td>\n",
       "      <td>18</td>\n",
       "      <td>U</td>\n",
       "      <td>LE3</td>\n",
       "      <td>T</td>\n",
       "      <td>3</td>\n",
       "      <td>1</td>\n",
       "      <td>teacher</td>\n",
       "      <td>services</td>\n",
       "      <td>...</td>\n",
       "      <td>4</td>\n",
       "      <td>3</td>\n",
       "      <td>4</td>\n",
       "      <td>1</td>\n",
       "      <td>1</td>\n",
       "      <td>1</td>\n",
       "      <td>4</td>\n",
       "      <td>15</td>\n",
       "      <td>15</td>\n",
       "      <td>16</td>\n",
       "    </tr>\n",
       "    <tr>\n",
       "      <th>646</th>\n",
       "      <td>MS</td>\n",
       "      <td>F</td>\n",
       "      <td>18</td>\n",
       "      <td>U</td>\n",
       "      <td>GT3</td>\n",
       "      <td>T</td>\n",
       "      <td>1</td>\n",
       "      <td>1</td>\n",
       "      <td>other</td>\n",
       "      <td>other</td>\n",
       "      <td>...</td>\n",
       "      <td>1</td>\n",
       "      <td>1</td>\n",
       "      <td>1</td>\n",
       "      <td>1</td>\n",
       "      <td>1</td>\n",
       "      <td>5</td>\n",
       "      <td>6</td>\n",
       "      <td>11</td>\n",
       "      <td>12</td>\n",
       "      <td>9</td>\n",
       "    </tr>\n",
       "    <tr>\n",
       "      <th>647</th>\n",
       "      <td>MS</td>\n",
       "      <td>M</td>\n",
       "      <td>17</td>\n",
       "      <td>U</td>\n",
       "      <td>LE3</td>\n",
       "      <td>T</td>\n",
       "      <td>3</td>\n",
       "      <td>1</td>\n",
       "      <td>services</td>\n",
       "      <td>services</td>\n",
       "      <td>...</td>\n",
       "      <td>2</td>\n",
       "      <td>4</td>\n",
       "      <td>5</td>\n",
       "      <td>3</td>\n",
       "      <td>4</td>\n",
       "      <td>2</td>\n",
       "      <td>6</td>\n",
       "      <td>10</td>\n",
       "      <td>10</td>\n",
       "      <td>10</td>\n",
       "    </tr>\n",
       "    <tr>\n",
       "      <th>648</th>\n",
       "      <td>MS</td>\n",
       "      <td>M</td>\n",
       "      <td>18</td>\n",
       "      <td>R</td>\n",
       "      <td>LE3</td>\n",
       "      <td>T</td>\n",
       "      <td>3</td>\n",
       "      <td>2</td>\n",
       "      <td>services</td>\n",
       "      <td>other</td>\n",
       "      <td>...</td>\n",
       "      <td>4</td>\n",
       "      <td>4</td>\n",
       "      <td>1</td>\n",
       "      <td>3</td>\n",
       "      <td>4</td>\n",
       "      <td>5</td>\n",
       "      <td>4</td>\n",
       "      <td>10</td>\n",
       "      <td>11</td>\n",
       "      <td>11</td>\n",
       "    </tr>\n",
       "  </tbody>\n",
       "</table>\n",
       "<p>649 rows × 33 columns</p>\n",
       "</div>"
      ],
      "text/plain": [
       "    school sex  age address famsize Pstatus  Medu  Fedu      Mjob      Fjob  \\\n",
       "0       GP   F   18       U     GT3       A     4     4   at_home   teacher   \n",
       "1       GP   F   17       U     GT3       T     1     1   at_home     other   \n",
       "2       GP   F   15       U     LE3       T     1     1   at_home     other   \n",
       "3       GP   F   15       U     GT3       T     4     2    health  services   \n",
       "4       GP   F   16       U     GT3       T     3     3     other     other   \n",
       "..     ...  ..  ...     ...     ...     ...   ...   ...       ...       ...   \n",
       "644     MS   F   19       R     GT3       T     2     3  services     other   \n",
       "645     MS   F   18       U     LE3       T     3     1   teacher  services   \n",
       "646     MS   F   18       U     GT3       T     1     1     other     other   \n",
       "647     MS   M   17       U     LE3       T     3     1  services  services   \n",
       "648     MS   M   18       R     LE3       T     3     2  services     other   \n",
       "\n",
       "     ... famrel freetime  goout  Dalc  Walc health absences  G1  G2  G3  \n",
       "0    ...      4        3      4     1     1      3        4   0  11  11  \n",
       "1    ...      5        3      3     1     1      3        2   9  11  11  \n",
       "2    ...      4        3      2     2     3      3        6  12  13  12  \n",
       "3    ...      3        2      2     1     1      5        0  14  14  14  \n",
       "4    ...      4        3      2     1     2      5        0  11  13  13  \n",
       "..   ...    ...      ...    ...   ...   ...    ...      ...  ..  ..  ..  \n",
       "644  ...      5        4      2     1     2      5        4  10  11  10  \n",
       "645  ...      4        3      4     1     1      1        4  15  15  16  \n",
       "646  ...      1        1      1     1     1      5        6  11  12   9  \n",
       "647  ...      2        4      5     3     4      2        6  10  10  10  \n",
       "648  ...      4        4      1     3     4      5        4  10  11  11  \n",
       "\n",
       "[649 rows x 33 columns]"
      ]
     },
     "execution_count": 10,
     "metadata": {},
     "output_type": "execute_result"
    }
   ],
   "source": [
    "# data.drop_duplicates() # we do not have duplicate values in our dataset as proved above\n",
    "\n",
    "# Drops rows with null or missing values # we do not have null values\n",
    "data.dropna()  # dropping missing values, if present in dataset"
   ]
  },
  {
   "cell_type": "code",
   "execution_count": 11,
   "id": "6aecd22a",
   "metadata": {
    "ExecuteTime": {
     "end_time": "2022-10-10T19:33:51.610689Z",
     "start_time": "2022-10-10T19:33:51.597687Z"
    }
   },
   "outputs": [],
   "source": [
    "data.rename(columns={\n",
    "    'famsize': 'fam_size',\n",
    "    'Pstatus': 'parent_status',\n",
    "    'Medu': 'mom_edu',\n",
    "    'Fedu': 'dad_edu',\n",
    "    'Mjob': 'mom_job',\n",
    "    'Fjob': 'dad_job',\n",
    "    'schoolsup': 'school_support',\n",
    "    'famsup': 'fam_support',\n",
    "    'paid': 'paid_class',\n",
    "    'higher': 'higher_edu',\n",
    "    'romantic': 'romantic_relations',\n",
    "    'famrel': 'fam_relations',\n",
    "    'goout': 'outings',\n",
    "    'Dalc': 'workday_alcohol',\n",
    "    'Walc': 'weekend_alcohol'\n",
    "},\n",
    "            inplace=True)\n",
    "# renaming the data columns"
   ]
  },
  {
   "cell_type": "markdown",
   "id": "f13f9543",
   "metadata": {},
   "source": [
    "### Checking for Outliers or Invalid Data\n",
    "#### Note: These attributes- mom_edu, dad_edu, traveltime, studytime, famrelations, freetime, outings, workday_alcohol, weekend_alcohol, and health are ordinal data but have been converted to numeric for analysis purposes. We are not checking for outliers but just for invalid values for these attributes. Ordinal values ranging from 1-5 are very low-very high."
   ]
  },
  {
   "cell_type": "code",
   "execution_count": 12,
   "id": "c7f3a725",
   "metadata": {
    "ExecuteTime": {
     "end_time": "2022-10-10T19:33:56.589038Z",
     "start_time": "2022-10-10T19:33:51.614688Z"
    },
    "scrolled": true
   },
   "outputs": [
    {
     "data": {
      "image/png": "[encoded data removed]",
      "text/plain": [
       "<Figure size 1440x1440 with 16 Axes>"
      ]
     },
     "metadata": {
      "needs_background": "light"
     },
     "output_type": "display_data"
    }
   ],
   "source": [
    "# To plot a histogram for each numerical attribute, aids in checking for nonsensical extreme values (invalid values) in attributes that were converted from ordinal to numeric.\n",
    "data.hist(figsize=(20, 20))\n",
    "plt.show()"
   ]
  },
  {
   "cell_type": "code",
   "execution_count": 13,
   "id": "b92389c1",
   "metadata": {
    "ExecuteTime": {
     "end_time": "2022-10-10T19:33:56.845853Z",
     "start_time": "2022-10-10T19:33:56.589038Z"
    }
   },
   "outputs": [
    {
     "name": "stdout",
     "output_type": "stream",
     "text": [
      "    school sex  age address fam_size parent_status  mom_edu  dad_edu  \\\n",
      "279     GP   M   22       U      GT3             T        3        1   \n",
      "\n",
      "      mom_job   dad_job  ... fam_relations freetime  outings  workday_alcohol  \\\n",
      "279  services  services  ...             5        4        5                5   \n",
      "\n",
      "     weekend_alcohol health absences G1 G2 G3  \n",
      "279                5      1       12  7  8  5  \n",
      "\n",
      "[1 rows x 33 columns]\n"
     ]
    },
    {
     "data": {
      "image/png": "[encoded data removed]",
      "text/plain": [
       "<Figure size 432x288 with 1 Axes>"
      ]
     },
     "metadata": {
      "needs_background": "light"
     },
     "output_type": "display_data"
    }
   ],
   "source": [
    "age_Q1 = data[\"age\"].quantile(0.25)\n",
    "age_Q3 = data[\"age\"].quantile(0.75)\n",
    "age_IQR = age_Q3 - age_Q1  # Computing IQR\n",
    "\n",
    "# Data points below the lower fence (Q1-1.5*IQR) and above the upper fence (Q3+1.5*IQR) are considered to be outliers.\n",
    "age_outliers = data[(data[\"age\"] < (age_Q1 - 1.5 * age_IQR))\n",
    "                    | (data[\"age\"] > (age_Q3 + 1.5 * age_IQR))]\n",
    "\n",
    "print(age_outliers)  # to check out the outliers\n",
    "\n",
    "# # Filtering Values between Q1-1.5IQR and Q3+1.5IQR, removing outliers from the dataset\n",
    "# data = data[(data[\"age\"]>=(age_Q1 - 1.5 * age_IQR)) & (data[\"age\"]<=(age_Q3 + 1.5 * age_IQR))]\n",
    "# We do not want the filter the data as we would like to consider the only person of 22 years of age for possible interesting correlations.\n",
    "# We might want to reconsider our decision at a later point if required.\n",
    "\n",
    "# Creating boxplot, dots representing data above the upper fence or below the lower fence represent outliers\n",
    "age_plot = plt.boxplot(data[\"age\"])\n",
    "plt.show(age_plot)"
   ]
  },
  {
   "cell_type": "code",
   "execution_count": 14,
   "id": "291d8f53",
   "metadata": {
    "ExecuteTime": {
     "end_time": "2022-10-10T19:34:00.906453Z",
     "start_time": "2022-10-10T19:33:56.845853Z"
    },
    "scrolled": false
   },
   "outputs": [
    {
     "name": "stdout",
     "output_type": "stream",
     "text": [
      "19.63487088610952\n",
      "3.1632801154313093\n",
      "(648, 33)\n",
      "20.318397172480005\n",
      "2.8235781361619683\n",
      "(641, 33)\n",
      "(0, 34)\n",
      "(9, 34)\n"
     ]
    },
    {
     "name": "stderr",
     "output_type": "stream",
     "text": [
      "C:\\Users\\geeta\\AppData\\Local\\Temp\\ipykernel_17548\\3805946291.py:17: SettingWithCopyWarning: \n",
      "A value is trying to be set on a copy of a slice from a DataFrame.\n",
      "Try using .loc[row_indexer,col_indexer] = value instead\n",
      "\n",
      "See the caveats in the documentation: https://pandas.pydata.org/pandas-docs/stable/user_guide/indexing.html#returning-a-view-versus-a-copy\n",
      "  data_2['zscore'] = (data_2[\"G3\"] - data_2[\"G3\"].mean()) / data_2[\"G3\"].std()\n"
     ]
    }
   ],
   "source": [
    "# Data points above mean + 3*std and below mean + 3*std are considered outliers\n",
    "upper_G1 = data[\"G1\"].mean() + 3 * data[\"G1\"].std()\n",
    "lower_G1 = data[\"G1\"].mean() - 3 * data[\"G1\"].std()\n",
    "print(upper_G1)\n",
    "print(lower_G1)\n",
    "data_1 = data[(data[\"G1\"] < upper_G1) & (data[\"G1\"] > lower_G1)]\n",
    "print(data_1.shape)\n",
    "\n",
    "upper_G2 = data_1[\"G2\"].mean() + 3 * data_1[\"G2\"].std()\n",
    "lower_G2 = data_1[\"G2\"].mean() - 3 * data_1[\"G2\"].std()\n",
    "print(upper_G2)\n",
    "print(lower_G2)\n",
    "data_2 = data_1[(data_1[\"G2\"] < upper_G2) & (data_1[\"G2\"] > lower_G2)]\n",
    "print(data_2.shape)\n",
    "\n",
    "# Using z-scores to find outliers, all data points with z-score above 3 and below -3 are said to be outliers\n",
    "data_2['zscore'] = (data_2[\"G3\"] - data_2[\"G3\"].mean()) / data_2[\"G3\"].std()\n",
    "print(data_2[data_2[\"zscore\"] > 3].shape)\n",
    "# 9 values so they have been removed\n",
    "print(data_2[data_2[\"zscore\"] < -3].shape)\n",
    "\n",
    "# new dataframe with no outliers\n",
    "data_3 = data_2[(data_2['zscore'] > -3) & (data_2['zscore'] < 3)]"
   ]
  },
  {
   "cell_type": "code",
   "execution_count": 15,
   "id": "32042ab4",
   "metadata": {
    "ExecuteTime": {
     "end_time": "2022-10-10T19:34:01.173365Z",
     "start_time": "2022-10-10T19:34:00.914454Z"
    },
    "scrolled": false
   },
   "outputs": [
    {
     "data": {
      "image/png": "[encoded data removed]",
      "text/plain": [
       "<Figure size 432x288 with 1 Axes>"
      ]
     },
     "metadata": {
      "needs_background": "light"
     },
     "output_type": "display_data"
    },
    {
     "name": "stdout",
     "output_type": "stream",
     "text": [
      "    school sex  age address fam_size parent_status  mom_edu  dad_edu  \\\n",
      "40      GP   F   16       U      LE3             T        2        2   \n",
      "103     GP   F   15       U      GT3             T        3        2   \n",
      "150     GP   F   15       U      GT3             A        3        3   \n",
      "155     GP   M   17       U      GT3             T        2        1   \n",
      "161     GP   M   16       U      GT3             T        4        4   \n",
      "197     GP   F   17       U      LE3             T        3        3   \n",
      "206     GP   M   17       U      GT3             T        1        2   \n",
      "211     GP   M   16       R      LE3             T        3        3   \n",
      "212     GP   F   17       U      GT3             T        4        4   \n",
      "217     GP   F   17       R      GT3             T        2        2   \n",
      "230     GP   F   17       U      GT3             T        4        3   \n",
      "253     GP   F   18       U      LE3             A        2        4   \n",
      "254     GP   F   18       U      LE3             T        2        2   \n",
      "256     GP   M   18       U      GT3             T        2        2   \n",
      "263     GP   M   18       U      GT3             T        2        2   \n",
      "311     GP   F   19       U      GT3             T        3        3   \n",
      "325     GP   M   17       U      LE3             A        4        1   \n",
      "326     GP   M   17       U      LE3             A        3        2   \n",
      "397     GP   F   17       U      GT3             A        2        2   \n",
      "405     GP   F   19       U      LE3             A        2        3   \n",
      "413     GP   M   21       R      LE3             T        1        1   \n",
      "\n",
      "      mom_job   dad_job  ... freetime outings  workday_alcohol  \\\n",
      "40      other     other  ...        3       3                1   \n",
      "103  services     other  ...        3       5                1   \n",
      "150  services  services  ...        3       2                2   \n",
      "155     other     other  ...        4       5                1   \n",
      "161   teacher   teacher  ...        3       2                2   \n",
      "197     other     other  ...        3       3                2   \n",
      "206   at_home  services  ...        4       4                4   \n",
      "211   teacher     other  ...        3       4                3   \n",
      "212  services   teacher  ...        2       4                2   \n",
      "217     other     other  ...        3       2                1   \n",
      "230     other     other  ...        4       5                2   \n",
      "253  services     other  ...        3       3                1   \n",
      "254   at_home  services  ...        3       1                1   \n",
      "256     other   at_home  ...        4       3                2   \n",
      "263     other  services  ...        5       4                3   \n",
      "311     other  services  ...        3       5                3   \n",
      "325  services     other  ...        5       4                2   \n",
      "326   teacher  services  ...        4       4                3   \n",
      "397   at_home   at_home  ...        3       1                1   \n",
      "405   at_home     other  ...        2       3                3   \n",
      "413   at_home     other  ...        3       3                5   \n",
      "\n",
      "     weekend_alcohol  health absences  G1  G2  G3    zscore  \n",
      "40                 2       3       16  11  11  10 -0.679200  \n",
      "103                1       2       16  11  10  10 -0.679200  \n",
      "150                3       1       24   9   8   9 -1.012559  \n",
      "155                2       5       22   9   7   6 -2.012637  \n",
      "161                1       5       16   9   9   8 -1.345919  \n",
      "197                3       1       32  14  13  14  0.654237  \n",
      "206                5       5       16  10  11  12 -0.012481  \n",
      "211                5       3       16  10  11  12 -0.012481  \n",
      "212                3       2       30  14  15  16  1.320956  \n",
      "217                2       3       21  13  13  13  0.320878  \n",
      "230                4       1       16  11   9  10 -0.679200  \n",
      "253                1       3       18  10  10  10 -0.679200  \n",
      "254                1       5       16   9   8  10 -0.679200  \n",
      "256                2       1       26   7   8   8 -1.345919  \n",
      "263                5       2       16   8   7   8 -1.345919  \n",
      "311                3       5       16  11  12  12 -0.012481  \n",
      "325                4       5       22  11  11  10 -0.679200  \n",
      "326                4       3       18  13  13  13  0.320878  \n",
      "397                2       4       18  10  12  14  0.654237  \n",
      "405                4       5       16  10  11  11 -0.345841  \n",
      "413                2       4       21   9  10  10 -0.679200  \n",
      "\n",
      "[21 rows x 34 columns]\n"
     ]
    }
   ],
   "source": [
    "# Creating boxplots to check for outliers visually, dots representing data above the upper fence or below the lower fence represent outliers as explained already\n",
    "absences_plot = plt.boxplot(data_3[\"absences\"])\n",
    "plt.show()\n",
    "\n",
    "absences_Q1 = data_3[\"absences\"].quantile(0.25)\n",
    "absences_Q3 = data_3[\"absences\"].quantile(0.75)\n",
    "absences_IQR = absences_Q3 - absences_Q1  # Computing IQR\n",
    "\n",
    "absences_outliers = data_3[(data_3[\"absences\"] <\n",
    "                           (absences_Q1 - 1.5 * absences_IQR))\n",
    "                          | (data_3[\"absences\"] >\n",
    "                             (absences_Q3 + 1.5 * absences_IQR))]\n",
    "\n",
    "print(absences_outliers)  # to check out the outliers\n",
    "\n",
    "# Filtering Values between Q1-1.5IQR and Q3+1.5IQR, making another dataset without outliers, to resuse outliers data in analysis if required\n",
    "data4 = data_3[(data_3[\"absences\"] >= (absences_Q1 - 1.5 * absences_IQR))\n",
    "               & (data_3[\"absences\"] <= (absences_Q3 + 1.5 * absences_IQR))]"
   ]
  },
  {
   "cell_type": "code",
   "execution_count": 16,
   "id": "b405ac4a",
   "metadata": {
    "ExecuteTime": {
     "end_time": "2022-10-10T19:34:01.200774Z",
     "start_time": "2022-10-10T19:34:01.176765Z"
    }
   },
   "outputs": [
    {
     "name": "stdout",
     "output_type": "stream",
     "text": [
      "For studytime\n",
      "2    284\n",
      "1    195\n",
      "3     97\n",
      "4     35\n",
      "Name: studytime, dtype: int64\n",
      "4\n",
      "For freetime\n",
      "3    233\n",
      "4    170\n",
      "2    102\n",
      "5     61\n",
      "1     45\n",
      "Name: freetime, dtype: int64\n",
      "5\n",
      "\n",
      "For failures-\n",
      "0    527\n",
      "1     57\n",
      "2     14\n",
      "3     13\n",
      "Name: failures, dtype: int64\n",
      "4\n"
     ]
    }
   ],
   "source": [
    "print(\"For studytime\")\n",
    "# counts the occurences of values of each unique value in the column 'studytime'\n",
    "print(data4['studytime'].value_counts())\n",
    "# counts the occurences of each unique value in the column 'studytime'\n",
    "print(data4['studytime'].value_counts().count())\n",
    "\n",
    "print(\"For freetime\")\n",
    "# counts the occurences of values of each unique value in the column 'freetime'\n",
    "print(data4['freetime'].value_counts())\n",
    "# counts the occurences of each unique value in the column 'freetime'\n",
    "print(data4['freetime'].value_counts().count())\n",
    "\n",
    "print(\"\\nFor failures-\")\n",
    "# counts the occurences of values of each unique value in the column 'failures'\n",
    "print(data4['failures'].value_counts())\n",
    "# counts the occurences of each unique value in the column 'failures'\n",
    "print(data4['failures'].value_counts().count())"
   ]
  },
  {
   "cell_type": "code",
   "execution_count": 17,
   "id": "0c91fa07",
   "metadata": {
    "ExecuteTime": {
     "end_time": "2022-10-10T19:34:01.226802Z",
     "start_time": "2022-10-10T19:34:01.200774Z"
    }
   },
   "outputs": [
    {
     "name": "stdout",
     "output_type": "stream",
     "text": [
      "5    234\n",
      "3    115\n",
      "4    104\n",
      "1     85\n",
      "2     73\n",
      "Name: health, dtype: int64\n",
      "T    540\n",
      "A     71\n",
      "Name: parent_status, dtype: int64\n"
     ]
    }
   ],
   "source": [
    "# counts the occurences of values of each unique value in the column 'health'\n",
    "print(data4['health'].value_counts())\n",
    "\n",
    "# counts the occurences of values of each unique value in the column 'parent_status'- \"T\" - living together or \"A\" - apart\n",
    "print(data4['parent_status'].value_counts())"
   ]
  },
  {
   "cell_type": "code",
   "execution_count": 18,
   "id": "9b29889f",
   "metadata": {
    "ExecuteTime": {
     "end_time": "2022-10-10T19:34:02.349337Z",
     "start_time": "2022-10-10T19:34:01.226802Z"
    }
   },
   "outputs": [
    {
     "data": {
      "text/plain": [
       "<matplotlib.legend.Legend at 0x20f9909c910>"
      ]
     },
     "execution_count": 18,
     "metadata": {},
     "output_type": "execute_result"
    },
    {
     "data": {
      "image/png": "[encoded data removed]",
      "text/plain": [
       "<Figure size 720x576 with 1 Axes>"
      ]
     },
     "metadata": {},
     "output_type": "display_data"
    },
    {
     "data": {
      "image/png": "[encoded data removed]",
      "text/plain": [
       "<Figure size 720x576 with 1 Axes>"
      ]
     },
     "metadata": {},
     "output_type": "display_data"
    },
    {
     "data": {
      "image/png": "[encoded data removed]",
      "text/plain": [
       "<Figure size 720x576 with 1 Axes>"
      ]
     },
     "metadata": {},
     "output_type": "display_data"
    }
   ],
   "source": [
    "# Shows the proportion of schools mentioned; to confirm that there are no invalid values\n",
    "plt.figure(figsize=(10, 8))\n",
    "data4.school.value_counts().plot(kind='pie', autopct='%.0f%%')\n",
    "plt.title('Proportion of Schools')\n",
    "plt.legend()\n",
    "\n",
    "# Shows the proportion of sexes mentioned; to confirm that there are no invalid values\n",
    "plt.figure(figsize=(10,8))\n",
    "data4.sex.value_counts().plot(kind='pie', autopct='%.0f%%')\n",
    "plt.title('Proportion of the different sexes')\n",
    "plt.legend()\n",
    "\n",
    "# Shows the proportion of guardians types; to confirm that there are no invalid values\n",
    "plt.figure(figsize=(10,8))\n",
    "data4.guardian.value_counts().plot(kind='pie', autopct='%.0f%%')\n",
    "plt.title('Proportion of the different guardian types')\n",
    "plt.legend()"
   ]
  },
  {
   "cell_type": "code",
   "execution_count": 19,
   "id": "8dc33a5c",
   "metadata": {
    "ExecuteTime": {
     "end_time": "2022-10-10T19:34:02.958357Z",
     "start_time": "2022-10-10T19:34:02.351685Z"
    },
    "scrolled": false
   },
   "outputs": [
    {
     "data": {
      "image/png": "[encoded data removed]",
      "text/plain": [
       "<Figure size 1440x720 with 2 Axes>"
      ]
     },
     "metadata": {
      "needs_background": "light"
     },
     "output_type": "display_data"
    }
   ],
   "source": [
    "# To plot a histogram for visualizing and comparing mother's and father's education\n",
    "fig, axes = plt.subplots(1, 2)\n",
    "data4[\"mom_edu\"].hist(legend='True', ax=axes[0], figsize=(20,10))\n",
    "data4[\"dad_edu\"].hist(legend='True', ax=axes[1], figsize=(20,10))\n",
    "plt.show()"
   ]
  },
  {
   "cell_type": "code",
   "execution_count": 20,
   "id": "887cbfa0",
   "metadata": {
    "ExecuteTime": {
     "end_time": "2022-10-10T19:34:02.975999Z",
     "start_time": "2022-10-10T19:34:02.961961Z"
    }
   },
   "outputs": [
    {
     "data": {
      "text/plain": [
       "other       348\n",
       "services    169\n",
       "at_home      39\n",
       "teacher      32\n",
       "health       23\n",
       "Name: dad_job, dtype: int64"
      ]
     },
     "execution_count": 20,
     "metadata": {},
     "output_type": "execute_result"
    }
   ],
   "source": [
    "# counts the occurences of values of each unique value in the column 'mom_job'\n",
    "data4['mom_job'].value_counts()\n",
    "# counts the occurences of values of each unique value in the column 'dad_job'\n",
    "data4['dad_job'].value_counts()"
   ]
  },
  {
   "cell_type": "code",
   "execution_count": 21,
   "id": "2bf2e7f5",
   "metadata": {
    "ExecuteTime": {
     "end_time": "2022-10-10T19:34:03.642286Z",
     "start_time": "2022-10-10T19:34:02.979955Z"
    },
    "scrolled": true
   },
   "outputs": [
    {
     "data": {
      "image/png": "[encoded data removed]",
      "text/plain": [
       "<Figure size 1440x720 with 2 Axes>"
      ]
     },
     "metadata": {
      "needs_background": "light"
     },
     "output_type": "display_data"
    }
   ],
   "source": [
    "# To visualize the values of the mother's job and father's jobs\n",
    "fig, axes = plt.subplots(1, 2)\n",
    "data4[\"mom_job\"].hist(legend='True', ax=axes[0], figsize=(20,10))\n",
    "data4[\"dad_job\"].hist(legend='True', ax=axes[1], figsize=(20,10))\n",
    "plt.show()"
   ]
  },
  {
   "cell_type": "code",
   "execution_count": 22,
   "id": "eb1e92cf",
   "metadata": {
    "ExecuteTime": {
     "end_time": "2022-10-10T19:34:03.985999Z",
     "start_time": "2022-10-10T19:34:03.642286Z"
    }
   },
   "outputs": [
    {
     "data": {
      "text/plain": [
       "<AxesSubplot:xlabel='address'>"
      ]
     },
     "execution_count": 22,
     "metadata": {},
     "output_type": "execute_result"
    },
    {
     "data": {
      "image/png": "[encoded data removed]",
      "text/plain": [
       "<Figure size 720x720 with 1 Axes>"
      ]
     },
     "metadata": {
      "needs_background": "light"
     },
     "output_type": "display_data"
    }
   ],
   "source": [
    "# Reference- https://stats.stackexchange.com/questions/520731/how-to-plot-binary-vs-categorical-nominal-data\n",
    "# To visualize the relation between family size and the type of the address (urban(U) or rural(R))\n",
    "pd.crosstab(data4['address'],data4['fam_size']).plot.bar(stacked=True, figsize=(10,10))"
   ]
  },
  {
   "cell_type": "code",
   "execution_count": 23,
   "id": "c77e3120",
   "metadata": {
    "ExecuteTime": {
     "end_time": "2022-10-10T19:34:04.302329Z",
     "start_time": "2022-10-10T19:34:03.990953Z"
    }
   },
   "outputs": [
    {
     "data": {
      "text/plain": [
       "<AxesSubplot:xlabel='fam_relations'>"
      ]
     },
     "execution_count": 23,
     "metadata": {},
     "output_type": "execute_result"
    },
    {
     "data": {
      "image/png": "[encoded data removed]",
      "text/plain": [
       "<Figure size 720x720 with 1 Axes>"
      ]
     },
     "metadata": {
      "needs_background": "light"
     },
     "output_type": "display_data"
    }
   ],
   "source": [
    "# To visualize the relation between level of family relation and the support from family\n",
    "pd.crosstab(data4['fam_relations'],data4['fam_support']).plot.bar(stacked=True, figsize=(10,10))"
   ]
  },
  {
   "cell_type": "code",
   "execution_count": 24,
   "id": "ed867f77",
   "metadata": {
    "ExecuteTime": {
     "end_time": "2022-10-10T19:34:04.659921Z",
     "start_time": "2022-10-10T19:34:04.302329Z"
    }
   },
   "outputs": [
    {
     "data": {
      "text/plain": [
       "<AxesSubplot:xlabel='reason'>"
      ]
     },
     "execution_count": 24,
     "metadata": {},
     "output_type": "execute_result"
    },
    {
     "data": {
      "image/png": "[encoded data removed]",
      "text/plain": [
       "<Figure size 720x720 with 1 Axes>"
      ]
     },
     "metadata": {
      "needs_background": "light"
     },
     "output_type": "display_data"
    }
   ],
   "source": [
    "# To outline the relation between the reason for choosing the school v/s the travel time\n",
    "pd.crosstab(data4['reason'],data4['traveltime']).plot.bar(stacked=True, figsize=(10,10))"
   ]
  },
  {
   "cell_type": "code",
   "execution_count": 25,
   "id": "2a2b6782",
   "metadata": {
    "ExecuteTime": {
     "end_time": "2022-10-10T19:34:05.745587Z",
     "start_time": "2022-10-10T19:34:04.663954Z"
    }
   },
   "outputs": [
    {
     "data": {
      "text/plain": [
       "<matplotlib.legend.Legend at 0x20f988d8700>"
      ]
     },
     "execution_count": 25,
     "metadata": {},
     "output_type": "execute_result"
    },
    {
     "data": {
      "image/png": "[encoded data removed]",
      "text/plain": [
       "<Figure size 720x576 with 1 Axes>"
      ]
     },
     "metadata": {},
     "output_type": "display_data"
    },
    {
     "data": {
      "image/png": "[encoded data removed]",
      "text/plain": [
       "<Figure size 720x576 with 1 Axes>"
      ]
     },
     "metadata": {},
     "output_type": "display_data"
    },
    {
     "data": {
      "image/png": "[encoded data removed]",
      "text/plain": [
       "<Figure size 720x576 with 1 Axes>"
      ]
     },
     "metadata": {},
     "output_type": "display_data"
    },
    {
     "data": {
      "image/png": "[encoded data removed]",
      "text/plain": [
       "<Figure size 720x576 with 1 Axes>"
      ]
     },
     "metadata": {},
     "output_type": "display_data"
    }
   ],
   "source": [
    "# To have pie charts with some attributes taking binary values\n",
    "# paid classes for Math or Portuguese\n",
    "plt.figure(figsize=(10, 8))\n",
    "data4.paid_class.value_counts().plot(kind='pie', autopct='%.0f%%')\n",
    "plt.title('Paid Classes Taken?')\n",
    "plt.legend()\n",
    "\n",
    "# takes part in other activities \n",
    "plt.figure(figsize=(10, 8))\n",
    "data4.activities.value_counts().plot(kind='pie', autopct='%.0f%%')\n",
    "plt.title('Activities taken up?')\n",
    "plt.legend()\n",
    "\n",
    "# attended nursery school (binary: yes or no)\n",
    "plt.figure(figsize=(10, 8))\n",
    "data4.nursery.value_counts().plot(kind='pie', autopct='%.0f%%')\n",
    "plt.title('Attended Nuresery?')\n",
    "plt.legend()\n",
    "\n",
    "# higher - wants to take higher education (binary: yes or no)\n",
    "plt.figure(figsize=(10, 8))\n",
    "data4.higher_edu.value_counts().plot(kind='pie', autopct='%.0f%%')\n",
    "plt.title('Wants to pursue higher studies?')\n",
    "plt.legend()\n"
   ]
  },
  {
   "cell_type": "code",
   "execution_count": 26,
   "id": "7f40632a",
   "metadata": {
    "ExecuteTime": {
     "end_time": "2022-10-10T19:34:05.776517Z",
     "start_time": "2022-10-10T19:34:05.749784Z"
    }
   },
   "outputs": [
    {
     "name": "stdout",
     "output_type": "stream",
     "text": [
      "yes    469\n",
      "no     142\n",
      "Name: internet, dtype: int64\n",
      "no     392\n",
      "yes    219\n",
      "Name: romantic_relations, dtype: int64\n",
      "3    196\n",
      "2    140\n",
      "4    133\n",
      "5    100\n",
      "1     42\n",
      "Name: outings, dtype: int64\n"
     ]
    }
   ],
   "source": [
    "# counts the occurences of values of each unique value in the column 'internet'- has access to or not\n",
    "print(data4['internet'].value_counts())\n",
    "\n",
    "# counts the occurences of values of each unique value in the column 'romantic_relations'- if they are in a romantic relationship or not\n",
    "print(data4['romantic_relations'].value_counts())\n",
    "\n",
    "# counts the occurences of values of each unique value in the column 'outings'- frequency of going out with friends\n",
    "print(data4['outings'].value_counts())"
   ]
  },
  {
   "cell_type": "code",
   "execution_count": 27,
   "id": "c7a45206",
   "metadata": {
    "ExecuteTime": {
     "end_time": "2022-10-10T19:34:06.209050Z",
     "start_time": "2022-10-10T19:34:05.786250Z"
    }
   },
   "outputs": [
    {
     "data": {
      "text/plain": [
       "<AxesSubplot:xlabel='weekend_alcohol'>"
      ]
     },
     "execution_count": 27,
     "metadata": {},
     "output_type": "execute_result"
    },
    {
     "data": {
      "image/png": "[encoded data removed]",
      "text/plain": [
       "<Figure size 720x720 with 1 Axes>"
      ]
     },
     "metadata": {
      "needs_background": "light"
     },
     "output_type": "display_data"
    }
   ],
   "source": [
    "# To showcase the weekday and weekend alcohol consumption\n",
    "pd.crosstab(data4['weekend_alcohol'],data4['workday_alcohol']).plot.bar(stacked=True, figsize=(10,10))"
   ]
  },
  {
   "cell_type": "code",
   "execution_count": 28,
   "id": "28b8e142",
   "metadata": {
    "ExecuteTime": {
     "end_time": "2022-10-10T19:34:06.509144Z",
     "start_time": "2022-10-10T19:34:06.214805Z"
    }
   },
   "outputs": [
    {
     "data": {
      "text/plain": [
       "<AxesSubplot:xlabel='absences', ylabel='G3'>"
      ]
     },
     "execution_count": 28,
     "metadata": {},
     "output_type": "execute_result"
    },
    {
     "data": {
      "image/png": "[encoded data removed]",
      "text/plain": [
       "<Figure size 432x288 with 1 Axes>"
      ]
     },
     "metadata": {
      "needs_background": "light"
     },
     "output_type": "display_data"
    }
   ],
   "source": [
    "# To find a possible relationship between absences and final grade, before calculating the correlation matrix\n",
    "data4.plot(kind=\"scatter\", x=\"absences\", y=\"G3\")"
   ]
  },
  {
   "cell_type": "markdown",
   "id": "e55600f1",
   "metadata": {},
   "source": [
    "## Feature Engineering"
   ]
  },
  {
   "cell_type": "code",
   "execution_count": 29,
   "id": "70bc12f1",
   "metadata": {
    "ExecuteTime": {
     "end_time": "2022-10-10T19:34:06.584117Z",
     "start_time": "2022-10-10T19:34:06.513096Z"
    },
    "scrolled": true
   },
   "outputs": [
    {
     "name": "stderr",
     "output_type": "stream",
     "text": [
      "C:\\Users\\geeta\\AppData\\Local\\Temp\\ipykernel_17548\\3837693695.py:1: SettingWithCopyWarning: \n",
      "A value is trying to be set on a copy of a slice from a DataFrame.\n",
      "Try using .loc[row_indexer,col_indexer] = value instead\n",
      "\n",
      "See the caveats in the documentation: https://pandas.pydata.org/pandas-docs/stable/user_guide/indexing.html#returning-a-view-versus-a-copy\n",
      "  data4['avg_grade'] = (data4['G1']+data4['G2']+data4['G3'])/3 # to add an extra attribute- the average final grade\n"
     ]
    },
    {
     "data": {
      "text/html": [
       "<div>\n",
       "<style scoped>\n",
       "    .dataframe tbody tr th:only-of-type {\n",
       "        vertical-align: middle;\n",
       "    }\n",
       "\n",
       "    .dataframe tbody tr th {\n",
       "        vertical-align: top;\n",
       "    }\n",
       "\n",
       "    .dataframe thead th {\n",
       "        text-align: right;\n",
       "    }\n",
       "</style>\n",
       "<table border=\"1\" class=\"dataframe\">\n",
       "  <thead>\n",
       "    <tr style=\"text-align: right;\">\n",
       "      <th></th>\n",
       "      <th>school</th>\n",
       "      <th>sex</th>\n",
       "      <th>age</th>\n",
       "      <th>address</th>\n",
       "      <th>fam_size</th>\n",
       "      <th>parent_status</th>\n",
       "      <th>mom_edu</th>\n",
       "      <th>dad_edu</th>\n",
       "      <th>mom_job</th>\n",
       "      <th>dad_job</th>\n",
       "      <th>...</th>\n",
       "      <th>outings</th>\n",
       "      <th>workday_alcohol</th>\n",
       "      <th>weekend_alcohol</th>\n",
       "      <th>health</th>\n",
       "      <th>absences</th>\n",
       "      <th>G1</th>\n",
       "      <th>G2</th>\n",
       "      <th>G3</th>\n",
       "      <th>zscore</th>\n",
       "      <th>avg_grade</th>\n",
       "    </tr>\n",
       "  </thead>\n",
       "  <tbody>\n",
       "    <tr>\n",
       "      <th>1</th>\n",
       "      <td>GP</td>\n",
       "      <td>F</td>\n",
       "      <td>17</td>\n",
       "      <td>U</td>\n",
       "      <td>GT3</td>\n",
       "      <td>T</td>\n",
       "      <td>1</td>\n",
       "      <td>1</td>\n",
       "      <td>at_home</td>\n",
       "      <td>other</td>\n",
       "      <td>...</td>\n",
       "      <td>3</td>\n",
       "      <td>1</td>\n",
       "      <td>1</td>\n",
       "      <td>3</td>\n",
       "      <td>2</td>\n",
       "      <td>9</td>\n",
       "      <td>11</td>\n",
       "      <td>11</td>\n",
       "      <td>-0.345841</td>\n",
       "      <td>10.333333</td>\n",
       "    </tr>\n",
       "    <tr>\n",
       "      <th>2</th>\n",
       "      <td>GP</td>\n",
       "      <td>F</td>\n",
       "      <td>15</td>\n",
       "      <td>U</td>\n",
       "      <td>LE3</td>\n",
       "      <td>T</td>\n",
       "      <td>1</td>\n",
       "      <td>1</td>\n",
       "      <td>at_home</td>\n",
       "      <td>other</td>\n",
       "      <td>...</td>\n",
       "      <td>2</td>\n",
       "      <td>2</td>\n",
       "      <td>3</td>\n",
       "      <td>3</td>\n",
       "      <td>6</td>\n",
       "      <td>12</td>\n",
       "      <td>13</td>\n",
       "      <td>12</td>\n",
       "      <td>-0.012481</td>\n",
       "      <td>12.333333</td>\n",
       "    </tr>\n",
       "    <tr>\n",
       "      <th>3</th>\n",
       "      <td>GP</td>\n",
       "      <td>F</td>\n",
       "      <td>15</td>\n",
       "      <td>U</td>\n",
       "      <td>GT3</td>\n",
       "      <td>T</td>\n",
       "      <td>4</td>\n",
       "      <td>2</td>\n",
       "      <td>health</td>\n",
       "      <td>services</td>\n",
       "      <td>...</td>\n",
       "      <td>2</td>\n",
       "      <td>1</td>\n",
       "      <td>1</td>\n",
       "      <td>5</td>\n",
       "      <td>0</td>\n",
       "      <td>14</td>\n",
       "      <td>14</td>\n",
       "      <td>14</td>\n",
       "      <td>0.654237</td>\n",
       "      <td>14.000000</td>\n",
       "    </tr>\n",
       "    <tr>\n",
       "      <th>4</th>\n",
       "      <td>GP</td>\n",
       "      <td>F</td>\n",
       "      <td>16</td>\n",
       "      <td>U</td>\n",
       "      <td>GT3</td>\n",
       "      <td>T</td>\n",
       "      <td>3</td>\n",
       "      <td>3</td>\n",
       "      <td>other</td>\n",
       "      <td>other</td>\n",
       "      <td>...</td>\n",
       "      <td>2</td>\n",
       "      <td>1</td>\n",
       "      <td>2</td>\n",
       "      <td>5</td>\n",
       "      <td>0</td>\n",
       "      <td>11</td>\n",
       "      <td>13</td>\n",
       "      <td>13</td>\n",
       "      <td>0.320878</td>\n",
       "      <td>12.333333</td>\n",
       "    </tr>\n",
       "    <tr>\n",
       "      <th>5</th>\n",
       "      <td>GP</td>\n",
       "      <td>M</td>\n",
       "      <td>16</td>\n",
       "      <td>U</td>\n",
       "      <td>LE3</td>\n",
       "      <td>T</td>\n",
       "      <td>4</td>\n",
       "      <td>3</td>\n",
       "      <td>services</td>\n",
       "      <td>other</td>\n",
       "      <td>...</td>\n",
       "      <td>2</td>\n",
       "      <td>1</td>\n",
       "      <td>2</td>\n",
       "      <td>5</td>\n",
       "      <td>6</td>\n",
       "      <td>12</td>\n",
       "      <td>12</td>\n",
       "      <td>13</td>\n",
       "      <td>0.320878</td>\n",
       "      <td>12.333333</td>\n",
       "    </tr>\n",
       "  </tbody>\n",
       "</table>\n",
       "<p>5 rows × 35 columns</p>\n",
       "</div>"
      ],
      "text/plain": [
       "  school sex  age address fam_size parent_status  mom_edu  dad_edu   mom_job  \\\n",
       "1     GP   F   17       U      GT3             T        1        1   at_home   \n",
       "2     GP   F   15       U      LE3             T        1        1   at_home   \n",
       "3     GP   F   15       U      GT3             T        4        2    health   \n",
       "4     GP   F   16       U      GT3             T        3        3     other   \n",
       "5     GP   M   16       U      LE3             T        4        3  services   \n",
       "\n",
       "    dad_job  ... outings workday_alcohol  weekend_alcohol  health  absences  \\\n",
       "1     other  ...       3               1                1       3         2   \n",
       "2     other  ...       2               2                3       3         6   \n",
       "3  services  ...       2               1                1       5         0   \n",
       "4     other  ...       2               1                2       5         0   \n",
       "5     other  ...       2               1                2       5         6   \n",
       "\n",
       "   G1  G2  G3    zscore  avg_grade  \n",
       "1   9  11  11 -0.345841  10.333333  \n",
       "2  12  13  12 -0.012481  12.333333  \n",
       "3  14  14  14  0.654237  14.000000  \n",
       "4  11  13  13  0.320878  12.333333  \n",
       "5  12  12  13  0.320878  12.333333  \n",
       "\n",
       "[5 rows x 35 columns]"
      ]
     },
     "execution_count": 29,
     "metadata": {},
     "output_type": "execute_result"
    }
   ],
   "source": [
    "data4['avg_grade'] = (data4['G1']+data4['G2']+data4['G3'])/3 # to add an extra attribute- the average final grade\n",
    "data4.head()"
   ]
  },
  {
   "cell_type": "code",
   "execution_count": 30,
   "id": "2e9ccfaf",
   "metadata": {
    "ExecuteTime": {
     "end_time": "2022-10-10T19:34:06.681283Z",
     "start_time": "2022-10-10T19:34:06.586052Z"
    }
   },
   "outputs": [
    {
     "name": "stderr",
     "output_type": "stream",
     "text": [
      "C:\\Users\\geeta\\AppData\\Local\\Temp\\ipykernel_17548\\2023745238.py:3: SettingWithCopyWarning: \n",
      "A value is trying to be set on a copy of a slice from a DataFrame.\n",
      "Try using .loc[row_indexer,col_indexer] = value instead\n",
      "\n",
      "See the caveats in the documentation: https://pandas.pydata.org/pandas-docs/stable/user_guide/indexing.html#returning-a-view-versus-a-copy\n",
      "  data4['final_grade'] = pd.cut(x = data4['avg_grade'],\n"
     ]
    },
    {
     "data": {
      "text/html": [
       "<div>\n",
       "<style scoped>\n",
       "    .dataframe tbody tr th:only-of-type {\n",
       "        vertical-align: middle;\n",
       "    }\n",
       "\n",
       "    .dataframe tbody tr th {\n",
       "        vertical-align: top;\n",
       "    }\n",
       "\n",
       "    .dataframe thead th {\n",
       "        text-align: right;\n",
       "    }\n",
       "</style>\n",
       "<table border=\"1\" class=\"dataframe\">\n",
       "  <thead>\n",
       "    <tr style=\"text-align: right;\">\n",
       "      <th></th>\n",
       "      <th>school</th>\n",
       "      <th>sex</th>\n",
       "      <th>age</th>\n",
       "      <th>address</th>\n",
       "      <th>fam_size</th>\n",
       "      <th>parent_status</th>\n",
       "      <th>mom_edu</th>\n",
       "      <th>dad_edu</th>\n",
       "      <th>mom_job</th>\n",
       "      <th>dad_job</th>\n",
       "      <th>...</th>\n",
       "      <th>workday_alcohol</th>\n",
       "      <th>weekend_alcohol</th>\n",
       "      <th>health</th>\n",
       "      <th>absences</th>\n",
       "      <th>G1</th>\n",
       "      <th>G2</th>\n",
       "      <th>G3</th>\n",
       "      <th>zscore</th>\n",
       "      <th>avg_grade</th>\n",
       "      <th>final_grade</th>\n",
       "    </tr>\n",
       "  </thead>\n",
       "  <tbody>\n",
       "    <tr>\n",
       "      <th>1</th>\n",
       "      <td>GP</td>\n",
       "      <td>F</td>\n",
       "      <td>17</td>\n",
       "      <td>U</td>\n",
       "      <td>GT3</td>\n",
       "      <td>T</td>\n",
       "      <td>1</td>\n",
       "      <td>1</td>\n",
       "      <td>at_home</td>\n",
       "      <td>other</td>\n",
       "      <td>...</td>\n",
       "      <td>1</td>\n",
       "      <td>1</td>\n",
       "      <td>3</td>\n",
       "      <td>2</td>\n",
       "      <td>9</td>\n",
       "      <td>11</td>\n",
       "      <td>11</td>\n",
       "      <td>-0.345841</td>\n",
       "      <td>10.333333</td>\n",
       "      <td>E</td>\n",
       "    </tr>\n",
       "    <tr>\n",
       "      <th>2</th>\n",
       "      <td>GP</td>\n",
       "      <td>F</td>\n",
       "      <td>15</td>\n",
       "      <td>U</td>\n",
       "      <td>LE3</td>\n",
       "      <td>T</td>\n",
       "      <td>1</td>\n",
       "      <td>1</td>\n",
       "      <td>at_home</td>\n",
       "      <td>other</td>\n",
       "      <td>...</td>\n",
       "      <td>2</td>\n",
       "      <td>3</td>\n",
       "      <td>3</td>\n",
       "      <td>6</td>\n",
       "      <td>12</td>\n",
       "      <td>13</td>\n",
       "      <td>12</td>\n",
       "      <td>-0.012481</td>\n",
       "      <td>12.333333</td>\n",
       "      <td>D</td>\n",
       "    </tr>\n",
       "    <tr>\n",
       "      <th>3</th>\n",
       "      <td>GP</td>\n",
       "      <td>F</td>\n",
       "      <td>15</td>\n",
       "      <td>U</td>\n",
       "      <td>GT3</td>\n",
       "      <td>T</td>\n",
       "      <td>4</td>\n",
       "      <td>2</td>\n",
       "      <td>health</td>\n",
       "      <td>services</td>\n",
       "      <td>...</td>\n",
       "      <td>1</td>\n",
       "      <td>1</td>\n",
       "      <td>5</td>\n",
       "      <td>0</td>\n",
       "      <td>14</td>\n",
       "      <td>14</td>\n",
       "      <td>14</td>\n",
       "      <td>0.654237</td>\n",
       "      <td>14.000000</td>\n",
       "      <td>C</td>\n",
       "    </tr>\n",
       "    <tr>\n",
       "      <th>4</th>\n",
       "      <td>GP</td>\n",
       "      <td>F</td>\n",
       "      <td>16</td>\n",
       "      <td>U</td>\n",
       "      <td>GT3</td>\n",
       "      <td>T</td>\n",
       "      <td>3</td>\n",
       "      <td>3</td>\n",
       "      <td>other</td>\n",
       "      <td>other</td>\n",
       "      <td>...</td>\n",
       "      <td>1</td>\n",
       "      <td>2</td>\n",
       "      <td>5</td>\n",
       "      <td>0</td>\n",
       "      <td>11</td>\n",
       "      <td>13</td>\n",
       "      <td>13</td>\n",
       "      <td>0.320878</td>\n",
       "      <td>12.333333</td>\n",
       "      <td>D</td>\n",
       "    </tr>\n",
       "    <tr>\n",
       "      <th>5</th>\n",
       "      <td>GP</td>\n",
       "      <td>M</td>\n",
       "      <td>16</td>\n",
       "      <td>U</td>\n",
       "      <td>LE3</td>\n",
       "      <td>T</td>\n",
       "      <td>4</td>\n",
       "      <td>3</td>\n",
       "      <td>services</td>\n",
       "      <td>other</td>\n",
       "      <td>...</td>\n",
       "      <td>1</td>\n",
       "      <td>2</td>\n",
       "      <td>5</td>\n",
       "      <td>6</td>\n",
       "      <td>12</td>\n",
       "      <td>12</td>\n",
       "      <td>13</td>\n",
       "      <td>0.320878</td>\n",
       "      <td>12.333333</td>\n",
       "      <td>D</td>\n",
       "    </tr>\n",
       "  </tbody>\n",
       "</table>\n",
       "<p>5 rows × 36 columns</p>\n",
       "</div>"
      ],
      "text/plain": [
       "  school sex  age address fam_size parent_status  mom_edu  dad_edu   mom_job  \\\n",
       "1     GP   F   17       U      GT3             T        1        1   at_home   \n",
       "2     GP   F   15       U      LE3             T        1        1   at_home   \n",
       "3     GP   F   15       U      GT3             T        4        2    health   \n",
       "4     GP   F   16       U      GT3             T        3        3     other   \n",
       "5     GP   M   16       U      LE3             T        4        3  services   \n",
       "\n",
       "    dad_job  ... workday_alcohol weekend_alcohol  health  absences  G1  G2  \\\n",
       "1     other  ...               1               1       3         2   9  11   \n",
       "2     other  ...               2               3       3         6  12  13   \n",
       "3  services  ...               1               1       5         0  14  14   \n",
       "4     other  ...               1               2       5         0  11  13   \n",
       "5     other  ...               1               2       5         6  12  12   \n",
       "\n",
       "   G3    zscore  avg_grade final_grade  \n",
       "1  11 -0.345841  10.333333           E  \n",
       "2  12 -0.012481  12.333333           D  \n",
       "3  14  0.654237  14.000000           C  \n",
       "4  13  0.320878  12.333333           D  \n",
       "5  13  0.320878  12.333333           D  \n",
       "\n",
       "[5 rows x 36 columns]"
      ]
     },
     "execution_count": 30,
     "metadata": {},
     "output_type": "execute_result"
    }
   ],
   "source": [
    "data4.sort_values(by=['avg_grade'])\n",
    "bin_labels_5 = ['E', 'D', 'C', 'B', 'A']\n",
    "data4['final_grade'] = pd.cut(x = data4['avg_grade'],\n",
    "                              bins=[0, 11, 13, 15, 17, 20],\n",
    "                              labels=bin_labels_5)\n",
    "data4.head()"
   ]
  },
  {
   "cell_type": "markdown",
   "id": "4d7bb00b",
   "metadata": {},
   "source": [
    "## Correlations"
   ]
  },
  {
   "cell_type": "code",
   "execution_count": 31,
   "id": "3df306d9",
   "metadata": {
    "ExecuteTime": {
     "end_time": "2022-10-10T19:34:06.775844Z",
     "start_time": "2022-10-10T19:34:06.682687Z"
    }
   },
   "outputs": [
    {
     "name": "stderr",
     "output_type": "stream",
     "text": [
      "C:\\Users\\geeta\\AppData\\Local\\Temp\\ipykernel_17548\\1468635189.py:1: SettingWithCopyWarning: \n",
      "A value is trying to be set on a copy of a slice from a DataFrame\n",
      "\n",
      "See the caveats in the documentation: https://pandas.pydata.org/pandas-docs/stable/user_guide/indexing.html#returning-a-view-versus-a-copy\n",
      "  data4.drop(['zscore'], axis = 1, inplace = True) # dropping the z-scores calculated earlier before finding any correlations\n"
     ]
    }
   ],
   "source": [
    "data4.drop(['zscore'], axis = 1, inplace = True) # dropping the z-scores calculated earlier before finding any correlations"
   ]
  },
  {
   "cell_type": "code",
   "execution_count": 38,
   "id": "dec38c95",
   "metadata": {
    "ExecuteTime": {
     "end_time": "2022-10-10T19:37:39.844762Z",
     "start_time": "2022-10-10T19:37:39.828432Z"
    }
   },
   "outputs": [],
   "source": [
    "# numerics = ['int16', 'int32', 'int64', 'float16', 'float32', 'float64']\n",
    "\n",
    "# df = data4.select_dtypes(include=numerics)\n",
    "# df.columns\n",
    "\n",
    "# df[\"parent_edu\"] = (df['mom_edu']+df['dad_edu'])/2 # to add an extra attribute\n",
    "# df[\"alcohol_consump\"] = (df['workday_alcohol']+df['weekend_alcohol'])/2 # to add an extra attribute"
   ]
  },
  {
   "cell_type": "code",
   "execution_count": 40,
   "id": "ad2fc1b9",
   "metadata": {
    "ExecuteTime": {
     "end_time": "2022-10-10T19:41:21.769951Z",
     "start_time": "2022-10-10T19:41:21.217965Z"
    }
   },
   "outputs": [
    {
     "name": "stderr",
     "output_type": "stream",
     "text": [
      "C:\\Users\\geeta\\AppData\\Local\\Temp\\ipykernel_17548\\3492055340.py:3: SettingWithCopyWarning: \n",
      "A value is trying to be set on a copy of a slice from a DataFrame.\n",
      "Try using .loc[row_indexer,col_indexer] = value instead\n",
      "\n",
      "See the caveats in the documentation: https://pandas.pydata.org/pandas-docs/stable/user_guide/indexing.html#returning-a-view-versus-a-copy\n",
      "  data4[columns] = ordinal_encoder.fit_transform(data4[columns])\n"
     ]
    }
   ],
   "source": [
    "columns = data4.select_dtypes(include=['object']).columns\n",
    "ordinal_encoder = OrdinalEncoder()\n",
    "data4[columns] = ordinal_encoder.fit_transform(data4[columns])"
   ]
  },
  {
   "cell_type": "code",
   "execution_count": 42,
   "id": "20db25f9",
   "metadata": {
    "ExecuteTime": {
     "end_time": "2022-10-10T19:42:35.395116Z",
     "start_time": "2022-10-10T19:42:35.375279Z"
    }
   },
   "outputs": [],
   "source": [
    "data4.head()\n",
    "df = data4.copy()"
   ]
  },
  {
   "cell_type": "code",
   "execution_count": null,
   "id": "06129170",
   "metadata": {
    "ExecuteTime": {
     "end_time": "2022-10-10T19:34:07.898486Z",
     "start_time": "2022-10-10T19:34:07.898486Z"
    }
   },
   "outputs": [],
   "source": [
    "df.drop(['G1','G2','G3','avg_grade'], axis = 1, inplace = True)\n",
    "df.head()"
   ]
  },
  {
   "cell_type": "code",
   "execution_count": null,
   "id": "15b14e5a",
   "metadata": {
    "ExecuteTime": {
     "end_time": "2022-10-10T19:34:07.898486Z",
     "start_time": "2022-10-10T19:34:07.898486Z"
    },
    "scrolled": true
   },
   "outputs": [],
   "source": [
    "from sklearn.preprocessing import StandardScaler\n",
    "scaler = StandardScaler()\n",
    "df = pd.DataFrame(scaler.fit_transform(df), columns = df.columns)\n"
   ]
  },
  {
   "cell_type": "code",
   "execution_count": null,
   "id": "7aad947d",
   "metadata": {
    "ExecuteTime": {
     "end_time": "2022-10-10T19:34:07.905505Z",
     "start_time": "2022-10-10T19:34:07.905505Z"
    }
   },
   "outputs": [],
   "source": [
    "df.index = data4.index\n",
    "df['final_grade'] = data4['final_grade']\n",
    "df.head()"
   ]
  },
  {
   "cell_type": "code",
   "execution_count": null,
   "id": "5a24f42b",
   "metadata": {
    "ExecuteTime": {
     "end_time": "2022-10-10T19:34:07.905505Z",
     "start_time": "2022-10-10T19:34:07.905505Z"
    }
   },
   "outputs": [],
   "source": [
    "df1 = df.copy()\n",
    "df1['final_grade'] = df1['final_grade'].replace(['A'],1)\n",
    "df1['final_grade'] = df1['final_grade'].replace(['B', 'C', 'D', 'E'],0)\n",
    "df1['final_grade'] = df1['final_grade'].astype(float)\n",
    "# df1.head()\n",
    "\n",
    "corr_matrix = df1.corr()\n",
    "corr_matrix[\"final_grade\"].sort_values(ascending = False)"
   ]
  },
  {
   "cell_type": "code",
   "execution_count": null,
   "id": "773bec9a",
   "metadata": {
    "ExecuteTime": {
     "end_time": "2022-10-10T19:34:07.913536Z",
     "start_time": "2022-10-10T19:34:07.913536Z"
    }
   },
   "outputs": [],
   "source": [
    "f, ax = plt.subplots(figsize = (15,15))\n",
    "sns.heatmap(df1.corr(), cmap = \"RdYlGn_r\", annot = True, fmt = '.2f')"
   ]
  },
  {
   "cell_type": "code",
   "execution_count": null,
   "id": "7e152e3f",
   "metadata": {
    "ExecuteTime": {
     "end_time": "2022-10-10T19:34:07.913536Z",
     "start_time": "2022-10-10T19:34:07.913536Z"
    }
   },
   "outputs": [],
   "source": [
    "df1 = df.copy()\n",
    "df1['final_grade'] = df1['final_grade'].replace(['B'],1)\n",
    "df1['final_grade'] = df1['final_grade'].replace(['A', 'C', 'D', 'E'],0)\n",
    "df1['final_grade'] = df1['final_grade'].astype(float)\n",
    "# df1.head()\n",
    "\n",
    "corr_matrix = df1.corr()\n",
    "corr_matrix[\"final_grade\"].sort_values(ascending = False)"
   ]
  },
  {
   "cell_type": "code",
   "execution_count": null,
   "id": "4f91d6a5",
   "metadata": {
    "ExecuteTime": {
     "end_time": "2022-10-10T19:34:07.918098Z",
     "start_time": "2022-10-10T19:34:07.918098Z"
    }
   },
   "outputs": [],
   "source": [
    "f, ax = plt.subplots(figsize = (15,15))\n",
    "sns.heatmap(df1.corr(), cmap = \"RdYlGn_r\", annot = True, fmt = '.2f')"
   ]
  },
  {
   "cell_type": "code",
   "execution_count": null,
   "id": "7236775a",
   "metadata": {
    "ExecuteTime": {
     "end_time": "2022-10-10T19:34:07.918098Z",
     "start_time": "2022-10-10T19:34:07.918098Z"
    }
   },
   "outputs": [],
   "source": [
    "df1 = df.copy()\n",
    "df1['final_grade'] = df1['final_grade'].replace(['C'],1)\n",
    "df1['final_grade'] = df1['final_grade'].replace(['A', 'B', 'D', 'E'],0)\n",
    "df1['final_grade'] = df1['final_grade'].astype(float)\n",
    "# df1.head()\n",
    "\n",
    "corr_matrix = df1.corr()\n",
    "corr_matrix[\"final_grade\"].sort_values(ascending = False)"
   ]
  },
  {
   "cell_type": "code",
   "execution_count": null,
   "id": "24353d96",
   "metadata": {
    "ExecuteTime": {
     "end_time": "2022-10-10T19:34:07.926125Z",
     "start_time": "2022-10-10T19:34:07.926125Z"
    }
   },
   "outputs": [],
   "source": [
    "f, ax = plt.subplots(figsize = (15,15))\n",
    "sns.heatmap(df1.corr(), cmap = \"RdYlGn_r\", annot = True, fmt = '.2f')"
   ]
  },
  {
   "cell_type": "code",
   "execution_count": null,
   "id": "8d4fabbd",
   "metadata": {
    "ExecuteTime": {
     "end_time": "2022-10-10T19:34:07.927379Z",
     "start_time": "2022-10-10T19:34:07.927379Z"
    }
   },
   "outputs": [],
   "source": [
    "df1 = df.copy()\n",
    "df1['final_grade'] = df1['final_grade'].replace(['D'],1)\n",
    "df1['final_grade'] = df1['final_grade'].replace(['A', 'C', 'B', 'E'],0)\n",
    "df1['final_grade'] = df1['final_grade'].astype(float)\n",
    "# df1.head()\n",
    "\n",
    "corr_matrix = df1.corr()\n",
    "corr_matrix[\"final_grade\"].sort_values(ascending = False)"
   ]
  },
  {
   "cell_type": "code",
   "execution_count": null,
   "id": "1bef0818",
   "metadata": {
    "ExecuteTime": {
     "end_time": "2022-10-10T19:34:07.927379Z",
     "start_time": "2022-10-10T19:34:07.927379Z"
    }
   },
   "outputs": [],
   "source": [
    "f, ax = plt.subplots(figsize = (15,15))\n",
    "sns.heatmap(df1.corr(), cmap = \"RdYlGn_r\", annot = True, fmt = '.2f')"
   ]
  },
  {
   "cell_type": "code",
   "execution_count": null,
   "id": "e7a0449e",
   "metadata": {
    "ExecuteTime": {
     "end_time": "2022-10-10T19:34:07.935398Z",
     "start_time": "2022-10-10T19:34:07.935398Z"
    }
   },
   "outputs": [],
   "source": [
    "df1 = df.copy()\n",
    "df1['final_grade'] = df1['final_grade'].replace(['E'],1)\n",
    "df1['final_grade'] = df1['final_grade'].replace(['A', 'C', 'D', 'B'],0)\n",
    "df1['final_grade'] = df1['final_grade'].astype(float)\n",
    "df1.head()\n",
    "\n",
    "corr_matrix = df1.corr()\n",
    "corr_matrix[\"final_grade\"].sort_values(ascending = False)"
   ]
  },
  {
   "cell_type": "code",
   "execution_count": null,
   "id": "73f88cbf",
   "metadata": {
    "ExecuteTime": {
     "end_time": "2022-10-10T19:34:07.935398Z",
     "start_time": "2022-10-10T19:34:07.935398Z"
    }
   },
   "outputs": [],
   "source": [
    "f, ax = plt.subplots(figsize = (15,15))\n",
    "sns.heatmap(df1.corr(), cmap = \"RdYlGn_r\", annot = True, fmt = '.2f')"
   ]
  },
  {
   "cell_type": "code",
   "execution_count": null,
   "id": "82bbcb10",
   "metadata": {
    "ExecuteTime": {
     "end_time": "2022-10-10T19:34:07.943399Z",
     "start_time": "2022-10-10T19:34:07.943399Z"
    }
   },
   "outputs": [],
   "source": [
    "df_2 = df[['studytime','mom_edu','dad_edu','fam_relations','failures','workday_alcohol']]\n",
    "df_2.head()"
   ]
  },
  {
   "cell_type": "code",
   "execution_count": null,
   "id": "a157c2ac",
   "metadata": {
    "ExecuteTime": {
     "end_time": "2022-10-10T19:34:07.951397Z",
     "start_time": "2022-10-10T19:34:07.951397Z"
    }
   },
   "outputs": [],
   "source": [
    "df_5 = df[['studytime','mom_edu','dad_edu','age','weekend_alcohol','workday_alcohol','outings','freetime','health','failures']]\n",
    "df_5.head()"
   ]
  },
  {
   "cell_type": "code",
   "execution_count": null,
   "id": "69a7abb6",
   "metadata": {
    "ExecuteTime": {
     "end_time": "2022-10-10T19:34:07.951397Z",
     "start_time": "2022-10-10T19:34:07.951397Z"
    }
   },
   "outputs": [],
   "source": [
    "df_10 = df[['final_grade','studytime','mom_edu','age','dad_edu','health','fam_relations','workday_alcohol','weekend_alcohol','outings','freetime','traveltime','absences','failures']]\n",
    "df_10.head()"
   ]
  },
  {
   "cell_type": "code",
   "execution_count": null,
   "id": "0aa4c47e",
   "metadata": {},
   "outputs": [],
   "source": []
  },
  {
   "cell_type": "markdown",
   "id": "5af0e592",
   "metadata": {},
   "source": [
    "## Prepare Data for Classifier"
   ]
  },
  {
   "cell_type": "code",
   "execution_count": null,
   "id": "9b91b9bf",
   "metadata": {},
   "outputs": [],
   "source": [
    "from sklearn.preprocessing import OrdinalEncoder\n",
    "from sklearn.compose import ColumnTransformer\n",
    "from sklearn.preprocessing import OneHotEncoder\n",
    "from sklearn.preprocessing import LabelEncoder\n",
    "\n",
    "\n",
    "# 1. Use entire data set\n",
    "new_df = data4 \n",
    "#reference: https://www.kaggle.com/code/scratchpad/notebooke88af56e04/edit\n",
    "\n",
    "\n",
    "binary_columns = ['school', 'sex', 'address', 'fam_size', 'parent_status', 'school_support', 'fam_support',\n",
    "       'paid_class', 'activities', 'nursery', 'higher_edu', 'internet', 'romantic_relations']\n",
    "nominal_columns = ['mom_job', 'dad_job', 'reason', 'guardian']\n",
    "\n",
    "transformers = [('numerical', StandardScaler(), ['age','absences']), ('nominal', OneHotEncoder(), nominal_columns),\n",
    "               ('binary', OrdinalEncoder(), binary_columns)]\n",
    "transformer_pipeline = ColumnTransformer(transformers, remainder='passthrough')\n",
    "new_df = pd.DataFrame(transformer_pipeline.fit_transform(new_df))\n",
    "\n",
    "le = LabelEncoder()\n",
    "\n",
    "new_df[47] = le.fit_transform(new_df[47]) #final grade column \n",
    "\n",
    "new_X = new_df.drop(columns=[47])\n",
    "\n",
    "new_Y = new_df[47]\n",
    "new_X, new_Y"
   ]
  },
  {
   "cell_type": "code",
   "execution_count": null,
   "id": "8453aa6f",
   "metadata": {},
   "outputs": [],
   "source": [
    "from sklearn.model_selection import train_test_split\n",
    "\n",
    "# create a test - train split\n",
    "new_X_train, new_X_test, new_Y_train, new_Y_test = train_test_split(new_X, new_Y, test_size=0.20)"
   ]
  },
  {
   "cell_type": "markdown",
   "id": "6cbf47b0",
   "metadata": {},
   "source": [
    "## Training the Classifier"
   ]
  },
  {
   "cell_type": "code",
   "execution_count": null,
   "id": "25f0e21c",
   "metadata": {},
   "outputs": [],
   "source": [
    "from sklearn.neighbors import KNeighborsClassifier\n",
    "\n",
    "# train KNN classifier\n",
    "\n",
    "new_model = KNeighborsClassifier()\n",
    "new_model.fit(new_X_train, new_Y_train)"
   ]
  },
  {
   "cell_type": "code",
   "execution_count": null,
   "id": "f07e619d",
   "metadata": {},
   "outputs": [],
   "source": [
    "# check model accuracy\n",
    "print(new_model.score(new_X_train, new_Y_train))\n",
    "print(new_model.score(new_X_test, new_Y_test))"
   ]
  },
  {
   "cell_type": "code",
   "execution_count": null,
   "id": "74360e50",
   "metadata": {},
   "outputs": [],
   "source": []
  }
 ],
 "metadata": {
  "kernelspec": {
   "display_name": "Python 3 (ipykernel)",
   "language": "python",
   "name": "python3"
  },
  "language_info": {
   "codemirror_mode": {
    "name": "ipython",
    "version": 3
   },
   "file_extension": ".py",
   "mimetype": "text/x-python",
   "name": "python",
   "nbconvert_exporter": "python",
   "pygments_lexer": "ipython3",
   "version": "3.9.12"
  }
 },
 "nbformat": 4,
 "nbformat_minor": 5
}
